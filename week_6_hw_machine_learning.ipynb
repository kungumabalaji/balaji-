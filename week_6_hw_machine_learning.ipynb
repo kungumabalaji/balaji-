{
  "nbformat": 4,
  "nbformat_minor": 0,
  "metadata": {
    "colab": {
      "provenance": [],
      "gpuType": "T4",
      "authorship_tag": "ABX9TyMAVGIIL+bkwj/7nn9Ai5qh",
      "include_colab_link": true
    },
    "kernelspec": {
      "name": "python3",
      "display_name": "Python 3"
    },
    "language_info": {
      "name": "python"
    },
    "accelerator": "GPU"
  },
  "cells": [
    {
      "cell_type": "markdown",
      "metadata": {
        "id": "view-in-github",
        "colab_type": "text"
      },
      "source": [
        "<a href=\"https://colab.research.google.com/github/kungumabalaji/balaji-/blob/main/week_6_hw_machine_learning.ipynb\" target=\"_parent\"><img src=\"https://colab.research.google.com/assets/colab-badge.svg\" alt=\"Open In Colab\"/></a>"
      ]
    },
    {
      "cell_type": "code",
      "execution_count": 1,
      "metadata": {
        "colab": {
          "base_uri": "https://localhost:8080/"
        },
        "id": "_tCa64cJmaZf",
        "outputId": "e198323d-8e33-4cff-b84b-c6fb40508bc3"
      },
      "outputs": [
        {
          "output_type": "stream",
          "name": "stdout",
          "text": [
            "Requirement already satisfied: torch in /usr/local/lib/python3.10/dist-packages (2.5.1+cu121)\n",
            "Requirement already satisfied: torchvision in /usr/local/lib/python3.10/dist-packages (0.20.1+cu121)\n",
            "Requirement already satisfied: filelock in /usr/local/lib/python3.10/dist-packages (from torch) (3.16.1)\n",
            "Requirement already satisfied: typing-extensions>=4.8.0 in /usr/local/lib/python3.10/dist-packages (from torch) (4.12.2)\n",
            "Requirement already satisfied: networkx in /usr/local/lib/python3.10/dist-packages (from torch) (3.4.2)\n",
            "Requirement already satisfied: jinja2 in /usr/local/lib/python3.10/dist-packages (from torch) (3.1.4)\n",
            "Requirement already satisfied: fsspec in /usr/local/lib/python3.10/dist-packages (from torch) (2024.10.0)\n",
            "Requirement already satisfied: sympy==1.13.1 in /usr/local/lib/python3.10/dist-packages (from torch) (1.13.1)\n",
            "Requirement already satisfied: mpmath<1.4,>=1.1.0 in /usr/local/lib/python3.10/dist-packages (from sympy==1.13.1->torch) (1.3.0)\n",
            "Requirement already satisfied: numpy in /usr/local/lib/python3.10/dist-packages (from torchvision) (1.26.4)\n",
            "Requirement already satisfied: pillow!=8.3.*,>=5.3.0 in /usr/local/lib/python3.10/dist-packages (from torchvision) (11.0.0)\n",
            "Requirement already satisfied: MarkupSafe>=2.0 in /usr/local/lib/python3.10/dist-packages (from jinja2->torch) (3.0.2)\n"
          ]
        }
      ],
      "source": [
        "!pip install torch torchvision\n"
      ]
    },
    {
      "cell_type": "code",
      "source": [
        "import torch    # dl library\n",
        "import torch.nn as nn # neural network tools\n",
        "import torch.optim as optim # optimization algorithms SGD or Adam to improve the model.\n",
        "import numpy  as np\n",
        "import matplotlib as plt\n",
        "from torchvision import datasets,transforms # datasets"
      ],
      "metadata": {
        "id": "22QuGYV7mtA4"
      },
      "execution_count": 8,
      "outputs": []
    },
    {
      "cell_type": "code",
      "source": [],
      "metadata": {
        "id": "kpQF2RLvtOAB"
      },
      "execution_count": null,
      "outputs": []
    },
    {
      "cell_type": "markdown",
      "source": [],
      "metadata": {
        "id": "38e7xsm-rXMP"
      }
    },
    {
      "cell_type": "code",
      "source": [
        "# load and transform the dta\n",
        "transform = transforms.Compose([\n",
        "    transforms.ToTensor(),  #  hepls to converts imgae to pytorch,umerical data that the model understands).\n",
        "    transforms.Normalize((0.5,),(0.5)) # centre the pixcel value ble -1, 1 , 0.5 , 0.5 means it sub from every pixel value and divide by 0.5\n",
        "])"
      ],
      "metadata": {
        "id": "aK_1evqxqLQ8"
      },
      "execution_count": 12,
      "outputs": []
    },
    {
      "cell_type": "code",
      "source": [
        "train_data = datasets.MNIST(root='./data',train=True, transform=transform, download=True)\n",
        "train_loader = torch.utils.DataLoader(train_data,batch_size=32, shuffle=True)"
      ],
      "metadata": {
        "colab": {
          "base_uri": "https://localhost:8080/",
          "height": 783
        },
        "id": "7dvpgO-BsCBV",
        "outputId": "c94c277f-c1c7-424f-da3f-1e7cf3003902"
      },
      "execution_count": 13,
      "outputs": [
        {
          "output_type": "stream",
          "name": "stdout",
          "text": [
            "Downloading http://yann.lecun.com/exdb/mnist/train-images-idx3-ubyte.gz\n",
            "Failed to download (trying next):\n",
            "HTTP Error 403: Forbidden\n",
            "\n",
            "Downloading https://ossci-datasets.s3.amazonaws.com/mnist/train-images-idx3-ubyte.gz\n",
            "Downloading https://ossci-datasets.s3.amazonaws.com/mnist/train-images-idx3-ubyte.gz to ./data/MNIST/raw/train-images-idx3-ubyte.gz\n"
          ]
        },
        {
          "output_type": "stream",
          "name": "stderr",
          "text": [
            "100%|██████████| 9.91M/9.91M [00:00<00:00, 37.8MB/s]\n"
          ]
        },
        {
          "output_type": "stream",
          "name": "stdout",
          "text": [
            "Extracting ./data/MNIST/raw/train-images-idx3-ubyte.gz to ./data/MNIST/raw\n",
            "\n",
            "Downloading http://yann.lecun.com/exdb/mnist/train-labels-idx1-ubyte.gz\n",
            "Failed to download (trying next):\n",
            "HTTP Error 403: Forbidden\n",
            "\n",
            "Downloading https://ossci-datasets.s3.amazonaws.com/mnist/train-labels-idx1-ubyte.gz\n",
            "Downloading https://ossci-datasets.s3.amazonaws.com/mnist/train-labels-idx1-ubyte.gz to ./data/MNIST/raw/train-labels-idx1-ubyte.gz\n"
          ]
        },
        {
          "output_type": "stream",
          "name": "stderr",
          "text": [
            "100%|██████████| 28.9k/28.9k [00:00<00:00, 1.27MB/s]\n"
          ]
        },
        {
          "output_type": "stream",
          "name": "stdout",
          "text": [
            "Extracting ./data/MNIST/raw/train-labels-idx1-ubyte.gz to ./data/MNIST/raw\n",
            "\n",
            "Downloading http://yann.lecun.com/exdb/mnist/t10k-images-idx3-ubyte.gz\n",
            "Failed to download (trying next):\n",
            "HTTP Error 403: Forbidden\n",
            "\n",
            "Downloading https://ossci-datasets.s3.amazonaws.com/mnist/t10k-images-idx3-ubyte.gz\n",
            "Downloading https://ossci-datasets.s3.amazonaws.com/mnist/t10k-images-idx3-ubyte.gz to ./data/MNIST/raw/t10k-images-idx3-ubyte.gz\n"
          ]
        },
        {
          "output_type": "stream",
          "name": "stderr",
          "text": [
            "100%|██████████| 1.65M/1.65M [00:00<00:00, 10.4MB/s]\n"
          ]
        },
        {
          "output_type": "stream",
          "name": "stdout",
          "text": [
            "Extracting ./data/MNIST/raw/t10k-images-idx3-ubyte.gz to ./data/MNIST/raw\n",
            "\n",
            "Downloading http://yann.lecun.com/exdb/mnist/t10k-labels-idx1-ubyte.gz\n",
            "Failed to download (trying next):\n",
            "HTTP Error 403: Forbidden\n",
            "\n",
            "Downloading https://ossci-datasets.s3.amazonaws.com/mnist/t10k-labels-idx1-ubyte.gz\n",
            "Downloading https://ossci-datasets.s3.amazonaws.com/mnist/t10k-labels-idx1-ubyte.gz to ./data/MNIST/raw/t10k-labels-idx1-ubyte.gz\n"
          ]
        },
        {
          "output_type": "stream",
          "name": "stderr",
          "text": [
            "100%|██████████| 4.54k/4.54k [00:00<00:00, 4.93MB/s]\n"
          ]
        },
        {
          "output_type": "stream",
          "name": "stdout",
          "text": [
            "Extracting ./data/MNIST/raw/t10k-labels-idx1-ubyte.gz to ./data/MNIST/raw\n",
            "\n"
          ]
        },
        {
          "output_type": "error",
          "ename": "AttributeError",
          "evalue": "module 'torch.utils' has no attribute 'DataLoader'",
          "traceback": [
            "\u001b[0;31m---------------------------------------------------------------------------\u001b[0m",
            "\u001b[0;31mAttributeError\u001b[0m                            Traceback (most recent call last)",
            "\u001b[0;32m<ipython-input-13-cd51b2fd8222>\u001b[0m in \u001b[0;36m<cell line: 2>\u001b[0;34m()\u001b[0m\n\u001b[1;32m      1\u001b[0m \u001b[0mtrain_data\u001b[0m \u001b[0;34m=\u001b[0m \u001b[0mdatasets\u001b[0m\u001b[0;34m.\u001b[0m\u001b[0mMNIST\u001b[0m\u001b[0;34m(\u001b[0m\u001b[0mroot\u001b[0m\u001b[0;34m=\u001b[0m\u001b[0;34m'./data'\u001b[0m\u001b[0;34m,\u001b[0m\u001b[0mtrain\u001b[0m\u001b[0;34m=\u001b[0m\u001b[0;32mTrue\u001b[0m\u001b[0;34m,\u001b[0m \u001b[0mtransform\u001b[0m\u001b[0;34m=\u001b[0m\u001b[0mtransform\u001b[0m\u001b[0;34m,\u001b[0m \u001b[0mdownload\u001b[0m\u001b[0;34m=\u001b[0m\u001b[0;32mTrue\u001b[0m\u001b[0;34m)\u001b[0m\u001b[0;34m\u001b[0m\u001b[0;34m\u001b[0m\u001b[0m\n\u001b[0;32m----> 2\u001b[0;31m \u001b[0mtrain_loader\u001b[0m \u001b[0;34m=\u001b[0m \u001b[0mtorch\u001b[0m\u001b[0;34m.\u001b[0m\u001b[0mutils\u001b[0m\u001b[0;34m.\u001b[0m\u001b[0mDataLoader\u001b[0m\u001b[0;34m(\u001b[0m\u001b[0mtrain_data\u001b[0m\u001b[0;34m,\u001b[0m\u001b[0mbatch_size\u001b[0m\u001b[0;34m=\u001b[0m\u001b[0;36m32\u001b[0m\u001b[0;34m,\u001b[0m \u001b[0mshuffle\u001b[0m\u001b[0;34m=\u001b[0m\u001b[0;32mTrue\u001b[0m\u001b[0;34m)\u001b[0m\u001b[0;34m\u001b[0m\u001b[0;34m\u001b[0m\u001b[0m\n\u001b[0m",
            "\u001b[0;31mAttributeError\u001b[0m: module 'torch.utils' has no attribute 'DataLoader'"
          ]
        }
      ]
    },
    {
      "source": [
        "import torch    # dl library\n",
        "import torch.nn as nn # neural network tools\n",
        "import torch.optim as optim # optimization algorithms SGD or Adam to improve the model.\n",
        "import numpy  as np\n",
        "import matplotlib as plt\n",
        "from torchvision import datasets,transforms # datasets\n",
        "from torch.utils.data import DataLoader # Import DataLoader from the correct module\n",
        "\n",
        "\n",
        "# load and transform the data\n",
        "transform = transforms.Compose([\n",
        "    transforms.ToTensor(),  #  hepls to converts imgae to pytorch,umerical data that the model understands).\n",
        "    transforms.Normalize((0.5,),(0.5)) # centre the pixcel value ble -1, 1 , 0.5 , 0.5 means it sub from every pixel value and divide by 0.5\n",
        "])\n",
        "\n",
        "train_data = datasets.MNIST(root='./data',train=True, transform=transform, download=True)\n",
        "train_loader = DataLoader(train_data,batch_size=32, shuffle=True) # Use DataLoader"
      ],
      "cell_type": "code",
      "metadata": {
        "id": "MwOiqVAOxkKq"
      },
      "execution_count": 14,
      "outputs": []
    },
    {
      "cell_type": "code",
      "source": [
        "# load and transform the data\n",
        "transform = transforms.Compose([\n",
        "    transforms.ToTensor(),  #  hepls to converts imgae to pytorch,umerical data that the model understands).\n",
        "    transforms.Normalize((0.5,),(0.5)) # centre the pixcel value ble -1, 1 , 0.5 , 0.5 means it sub from every pixel value and divide by 0.5\n",
        "])\n",
        "\n",
        "train_data = datasets.MNIST(root='./data',train=True, transform=transform, download=True)\n",
        "train_loader = DataLoader(train_data,batch_size=32, shuffle=True) # Use DataLoader"
      ],
      "metadata": {
        "id": "RDFQoWoIxquE"
      },
      "execution_count": 15,
      "outputs": []
    },
    {
      "cell_type": "code",
      "source": [
        "test_data = datasets.MNIST(root='.data',train=False,transform=transform, download=True)\n",
        "test_loader = torch.utils.data.DataLoader(test_data,batch_size=32,shuffle=False)"
      ],
      "metadata": {
        "colab": {
          "base_uri": "https://localhost:8080/"
        },
        "id": "90xGxqCTxytN",
        "outputId": "f5890439-3748-4898-dcd9-d8085a9575c5"
      },
      "execution_count": 16,
      "outputs": [
        {
          "output_type": "stream",
          "name": "stdout",
          "text": [
            "Downloading http://yann.lecun.com/exdb/mnist/train-images-idx3-ubyte.gz\n",
            "Failed to download (trying next):\n",
            "HTTP Error 403: Forbidden\n",
            "\n",
            "Downloading https://ossci-datasets.s3.amazonaws.com/mnist/train-images-idx3-ubyte.gz\n",
            "Downloading https://ossci-datasets.s3.amazonaws.com/mnist/train-images-idx3-ubyte.gz to .data/MNIST/raw/train-images-idx3-ubyte.gz\n"
          ]
        },
        {
          "output_type": "stream",
          "name": "stderr",
          "text": [
            "100%|██████████| 9.91M/9.91M [00:00<00:00, 42.1MB/s]\n"
          ]
        },
        {
          "output_type": "stream",
          "name": "stdout",
          "text": [
            "Extracting .data/MNIST/raw/train-images-idx3-ubyte.gz to .data/MNIST/raw\n",
            "\n",
            "Downloading http://yann.lecun.com/exdb/mnist/train-labels-idx1-ubyte.gz\n",
            "Failed to download (trying next):\n",
            "HTTP Error 403: Forbidden\n",
            "\n",
            "Downloading https://ossci-datasets.s3.amazonaws.com/mnist/train-labels-idx1-ubyte.gz\n",
            "Downloading https://ossci-datasets.s3.amazonaws.com/mnist/train-labels-idx1-ubyte.gz to .data/MNIST/raw/train-labels-idx1-ubyte.gz\n"
          ]
        },
        {
          "output_type": "stream",
          "name": "stderr",
          "text": [
            "100%|██████████| 28.9k/28.9k [00:00<00:00, 1.07MB/s]\n"
          ]
        },
        {
          "output_type": "stream",
          "name": "stdout",
          "text": [
            "Extracting .data/MNIST/raw/train-labels-idx1-ubyte.gz to .data/MNIST/raw\n",
            "\n",
            "Downloading http://yann.lecun.com/exdb/mnist/t10k-images-idx3-ubyte.gz\n",
            "Failed to download (trying next):\n",
            "HTTP Error 403: Forbidden\n",
            "\n",
            "Downloading https://ossci-datasets.s3.amazonaws.com/mnist/t10k-images-idx3-ubyte.gz\n",
            "Downloading https://ossci-datasets.s3.amazonaws.com/mnist/t10k-images-idx3-ubyte.gz to .data/MNIST/raw/t10k-images-idx3-ubyte.gz\n"
          ]
        },
        {
          "output_type": "stream",
          "name": "stderr",
          "text": [
            "100%|██████████| 1.65M/1.65M [00:00<00:00, 10.7MB/s]\n"
          ]
        },
        {
          "output_type": "stream",
          "name": "stdout",
          "text": [
            "Extracting .data/MNIST/raw/t10k-images-idx3-ubyte.gz to .data/MNIST/raw\n",
            "\n",
            "Downloading http://yann.lecun.com/exdb/mnist/t10k-labels-idx1-ubyte.gz\n",
            "Failed to download (trying next):\n",
            "HTTP Error 403: Forbidden\n",
            "\n",
            "Downloading https://ossci-datasets.s3.amazonaws.com/mnist/t10k-labels-idx1-ubyte.gz\n",
            "Downloading https://ossci-datasets.s3.amazonaws.com/mnist/t10k-labels-idx1-ubyte.gz to .data/MNIST/raw/t10k-labels-idx1-ubyte.gz\n"
          ]
        },
        {
          "output_type": "stream",
          "name": "stderr",
          "text": [
            "100%|██████████| 4.54k/4.54k [00:00<00:00, 2.76MB/s]"
          ]
        },
        {
          "output_type": "stream",
          "name": "stdout",
          "text": [
            "Extracting .data/MNIST/raw/t10k-labels-idx1-ubyte.gz to .data/MNIST/raw\n",
            "\n"
          ]
        },
        {
          "output_type": "stream",
          "name": "stderr",
          "text": [
            "\n"
          ]
        }
      ]
    },
    {
      "cell_type": "code",
      "source": [
        "# define cnnn model # __init__ setsup the layers,\n",
        "# define cnnn model # __init__ setsup the layers,\n",
        "\n",
        "class SimpleCNN(nn.Module):\n",
        "   def __init__(self):\n",
        "     super(SimpleCNN, self).__init__() # init set up the layers\n",
        "     self.conv1 = nn.Conv2d(1,32,kernel_size=3, stride=1,padding=1) # 1 is the input channel , 32 number of filters k     self.conv2 = nn.Conv2d(32, 64,kernel_size=3, stride=1, padding=1)\n",
        "     self.pool = nn.MaxPool2d(kernel_size=2,stride=2)\n",
        "     self.fc1=nn.Linear(64*7*7,128)   # to help model to lern we ned to mulltiple\n",
        "     self.fc2 = nn.Linear(128,10)\n",
        "\n",
        "\n",
        "\n",
        "     self.conv1 = nn.Conv2d(1,32,kernel_size=3, stride=1,padding=1)\n",
        "     self.conv2 = nn.Conv2d(32, 64,kernal_size=32, stride=1, padding=1)\n",
        "     self.pool = nn.Maxpool2d(kernel_size=2,stride=2)\n",
        "     self.fc1=nn.Linear(64*7**7,128)\n",
        "     self.fc2 = nn.Linear(128,10)   # 10 categories output , 128 neuron , fc fully connected layers\n",
        "\n",
        ""
      ],
      "metadata": {
        "id": "deMfbPdHyhd7"
      },
      "execution_count": 28,
      "outputs": []
    },
    {
      "cell_type": "code",
      "source": [
        "def forward(self, x):  # pass the data through the network\n",
        "  x=self.pool(torch.relu(self.conv1(x)))\n",
        "  x=self.pool(torch.relu(self.conv2))\n",
        "  x=x.view(-1,64*7*7) # -1 adjust the batch size  # converts the 3d fetures maps into 1 d array ( a flat list numbers)\n",
        "  x=torch.relu(self.fc1(x))\n",
        "  x=self.fc2(x)\n",
        "  return x\n",
        "\n",
        "  # self pool means apllies max pool to reduce the size of   64 feature maps * 7 pixels (height) * 7 pixels (width) = 3136"
      ],
      "metadata": {
        "id": "RC3sgkkYJr5l"
      },
      "execution_count": 27,
      "outputs": []
    },
    {
      "cell_type": "code",
      "source": [
        "# train the model\n",
        "\n",
        "def train_model(model,train_loader, criterion, optimizer, num_epochs=2):\n",
        "  for epoch in range(num_epochs):\n",
        "    running_loss = 0.0\n",
        "    for image, labels in train_loader:\n",
        "      optimizer.zero_glad()\n",
        "      outputs = model(images)\n",
        "      loss.backward()\n",
        "      optimizer.step()\n",
        "      running_loss += loss.item()\n",
        "    epoch_loss = running_loss / len(train_loader)\n",
        "    print(f\"Epoch {epoch+1}/{num_epochs}, Loss: {epoch_loss:.4f}\")"
      ],
      "metadata": {
        "id": "JuEXm_my_SS-"
      },
      "execution_count": 29,
      "outputs": []
    },
    {
      "cell_type": "code",
      "source": [
        "def test_model(model,test_loader):\n",
        "  correct = 0\n",
        "  total = 0\n",
        "  with torch.no_grad():\n",
        "    for images, labels in test_loader:\n",
        "        outputs = model(images)\n",
        "        _, predicted = torch.max(outputs.data,1)\n",
        "        total += labels.size(0)\n",
        "        correct += (predicted == labels).sum().item()"
      ],
      "metadata": {
        "id": "L_yseQlKRn1S"
      },
      "execution_count": 30,
      "outputs": []
    },
    {
      "cell_type": "code",
      "source": [
        "\n"
      ],
      "metadata": {
        "id": "i_iJkxAmSMDk"
      },
      "execution_count": 37,
      "outputs": []
    },
    {
      "source": [
        "\n"
      ],
      "cell_type": "code",
      "metadata": {
        "id": "rCDFfvxDSoof"
      },
      "execution_count": 37,
      "outputs": []
    },
    {
      "source": [
        "class SimpleCNN(nn.Module):\n",
        "    def __init__(self):\n",
        "        super(SimpleCNN, self).__init__() # init set up the layers\n",
        "        self.conv1 = nn.Conv2d(1,32,kernel_size=3, stride=1,padding=1) # 1 is the input channel , 32 number of filters k\n",
        "class SimpleCNN(nn.Module):\n",
        "    def __init__(self):\n",
        "        super(SimpleCNN, self).__init__() # init set up the layers\n",
        "        self.conv1 = nn.Conv2d(1,32,kernel_size=3, stride=1,padding=1) # 1 is the input channel , 32 number of filters k\n",
        "        self.conv2 = nn.Conv2d(32, 64,kernel_size=3, stride=1, padding=1)\n",
        "\n",
        "    def forward(self, x):\n",
        "        pass"
      ],
      "cell_type": "code",
      "metadata": {
        "id": "_njRgWrrS2TU"
      },
      "execution_count": 35,
      "outputs": []
    },
    {
      "cell_type": "code",
      "source": [
        "train_model(model, train_loader, criterion, optimizer, num_epochs=2)\n",
        "test_model(model, test_loader)\n"
      ],
      "metadata": {
        "id": "Up7dSrfgS_Al"
      },
      "execution_count": 38,
      "outputs": []
    },
    {
      "source": [
        "!pip install torch torchvision torchaudio --index-url https://download.pytorch.org/whl/cu118\n",
        "import torch\n",
        "import torch.nn as nn\n",
        "import torch.optim as optim\n",
        "\n",
        "# Assuming SimpleCNN is defined as in previous code examples\n",
        "class SimpleCNN(nn.Module):\n",
        "    def __init__(self):\n",
        "        super(SimpleCNN, self).__init__()  # init set up the layers\n",
        "        self.conv1 = nn.Conv2d(1, 32, kernel_size=3, stride=1, padding=1)  # 1 is the input channel , 32 number of filters k\n",
        "        self.conv2 = nn.Conv2d(32, 64, kernel_size=3, stride=1, padding=1)\n",
        "\n",
        "    def forward(self, x):\n",
        "        pass\n",
        "\n",
        "# Define and initialize model, criterion, and optimizer in the same cell before calling train_model and test_model\n",
        "model = SimpleCNN()  # This line initializes the model\n",
        "criterion = nn.CrossEntropyLoss()  # Measures classification loss\n",
        "optimizer = optim.Adam(model.parameters(), lr=0.001)  # Optimizer with learning rate 0.001\n",
        "\n",
        "# This part needs to be defined first so 'model', 'criterion', and 'optimizer' are in scope\n",
        "def train_model(model, train_loader, criterion, optimizer, num_epochs=2):\n",
        "    # Implement your training logic here\n",
        "    pass\n",
        "\n",
        "def test_model(model, test_loader):\n",
        "    # Implement your testing logic here\n",
        "    pass\n",
        "\n",
        "# Assuming train_loader and test_loader are defined elsewhere in the script\n",
        "train_model(model, train_loader, criterion, optimizer, num_epochs=2) # call the train_model\n",
        "test_model(model, test_loader) # call the test_model"
      ],
      "cell_type": "code",
      "metadata": {
        "colab": {
          "base_uri": "https://localhost:8080/"
        },
        "id": "6QnAFZD6TMaL",
        "outputId": "dc2eb52e-f49e-455a-ce8f-f7b5f04d6817"
      },
      "execution_count": 39,
      "outputs": [
        {
          "output_type": "stream",
          "name": "stdout",
          "text": [
            "Looking in indexes: https://download.pytorch.org/whl/cu118\n",
            "Requirement already satisfied: torch in /usr/local/lib/python3.10/dist-packages (2.5.1+cu121)\n",
            "Requirement already satisfied: torchvision in /usr/local/lib/python3.10/dist-packages (0.20.1+cu121)\n",
            "Requirement already satisfied: torchaudio in /usr/local/lib/python3.10/dist-packages (2.5.1+cu121)\n",
            "Requirement already satisfied: filelock in /usr/local/lib/python3.10/dist-packages (from torch) (3.16.1)\n",
            "Requirement already satisfied: typing-extensions>=4.8.0 in /usr/local/lib/python3.10/dist-packages (from torch) (4.12.2)\n",
            "Requirement already satisfied: networkx in /usr/local/lib/python3.10/dist-packages (from torch) (3.4.2)\n",
            "Requirement already satisfied: jinja2 in /usr/local/lib/python3.10/dist-packages (from torch) (3.1.4)\n",
            "Requirement already satisfied: fsspec in /usr/local/lib/python3.10/dist-packages (from torch) (2024.10.0)\n",
            "Requirement already satisfied: sympy==1.13.1 in /usr/local/lib/python3.10/dist-packages (from torch) (1.13.1)\n",
            "Requirement already satisfied: mpmath<1.4,>=1.1.0 in /usr/local/lib/python3.10/dist-packages (from sympy==1.13.1->torch) (1.3.0)\n",
            "Requirement already satisfied: numpy in /usr/local/lib/python3.10/dist-packages (from torchvision) (1.26.4)\n",
            "Requirement already satisfied: pillow!=8.3.*,>=5.3.0 in /usr/local/lib/python3.10/dist-packages (from torchvision) (11.0.0)\n",
            "Requirement already satisfied: MarkupSafe>=2.0 in /usr/local/lib/python3.10/dist-packages (from jinja2->torch) (3.0.2)\n"
          ]
        }
      ]
    },
    {
      "cell_type": "code",
      "source": [
        "def train_model(model, train_loader, criterion, optimizer, num_epochs=2):\n",
        "    for epoch in range(num_epochs):\n",
        "        running_loss = 0.0  # To track total loss for the epoch\n",
        "        for images, labels in train_loader:\n",
        "            # Zero the gradients\n",
        "            optimizer.zero_grad()\n",
        "\n",
        "            # Forward pass\n",
        "            outputs = model(images)\n",
        "            loss = criterion(outputs, labels)\n",
        "\n",
        "            # Backward pass and optimization\n",
        "            loss.backward()\n",
        "            optimizer.step()\n",
        "\n",
        "            running_loss += loss.item()\n",
        "\n",
        "        # Print loss after each epoch\n",
        "        print(f\"Epoch {epoch+1}/{num_epochs}, Loss: {running_loss/len(train_loader):.4f}\")\n"
      ],
      "metadata": {
        "id": "GNcSaPogTATk"
      },
      "execution_count": 40,
      "outputs": []
    },
    {
      "cell_type": "code",
      "source": [
        "def test_model(model, test_loader):\n",
        "    correct = 0\n",
        "    total = 0\n",
        "    with torch.no_grad():  # No need to calculate gradients during testing\n",
        "        for images, labels in test_loader:\n",
        "            outputs = model(images)\n",
        "            _, predicted = torch.max(outputs, 1)  # Get class with highest probability\n",
        "            total += labels.size(0)  # Count total samples\n",
        "            correct += (predicted == labels).sum().item()  # Count correct predictions\n",
        "\n",
        "    # Print accuracy\n",
        "    print(f\"Accuracy: {100 * correct / total:.2f}%\")\n"
      ],
      "metadata": {
        "id": "ND03i7WsUTM6"
      },
      "execution_count": 41,
      "outputs": []
    },
    {
      "cell_type": "code",
      "source": [
        "def forward(self, x):\n",
        "    x = self.pool(torch.relu(self.conv1(x)))  # Convolution + ReLU + Pooling\n",
        "    x = self.pool(torch.relu(self.conv2(x)))  # Convolution + ReLU + Pooling\n",
        "    x = x.view(-1, 64 * 7 * 7)  # Flattening the data\n",
        "    x = torch.relu(self.fc1(x))  # First fully connected layer\n",
        "    x = self.fc2(x)  # Second fully connected layer\n",
        "    return x  # Make sure this returns the output tensor\n",
        "\n",
        "\n"
      ],
      "metadata": {
        "id": "u0Bw4E_bUYun"
      },
      "execution_count": 47,
      "outputs": []
    },
    {
      "source": [
        "def forward(self, x):\n",
        "    pass"
      ],
      "cell_type": "code",
      "metadata": {
        "id": "MDPvT6CCUvM3"
      },
      "execution_count": 43,
      "outputs": []
    },
    {
      "source": [
        "import torch\n",
        "import torch.nn as nn\n",
        "import torch.optim as optim\n",
        "\n",
        "class SimpleCNN(nn.Module):\n",
        "    def __init__(self):\n",
        "        super(SimpleCNN, self).__init__()\n",
        "        self.conv1 = nn.Conv2d(1, 32, kernel_size=3, stride=1, padding=1)\n",
        "        self.conv2 = nn.Conv2d(32, 64, kernel_size=3, stride=1, padding=1)\n",
        "\n",
        "    def forward(self, x):\n",
        "        # Pass the input through the convolutional layers and apply an activation function\n",
        "        x = torch.relu(self.conv1(x))  # Apply ReLU activation after conv1\n",
        "        x = torch.relu(self.conv2(x))  # Apply ReLU activation after conv2\n",
        "        return x  # Return the output tensor"
      ],
      "cell_type": "code",
      "metadata": {
        "id": "XW-mlWjEUwvg"
      },
      "execution_count": 44,
      "outputs": []
    },
    {
      "cell_type": "code",
      "source": [
        "model = SimpleCNN()  # Replace SimpleCNN with your actual model class name\n"
      ],
      "metadata": {
        "id": "dEedv_UxUf48"
      },
      "execution_count": 48,
      "outputs": []
    },
    {
      "cell_type": "code",
      "source": [
        "for images, labels in train_loader:\n",
        "    print(images.shape)  # Should be (batch_size, 1, 28, 28) for MNIST\n",
        "    print(labels.shape)  # Should be (batch_size,)\n",
        "    break\n"
      ],
      "metadata": {
        "colab": {
          "base_uri": "https://localhost:8080/"
        },
        "id": "vwEnR53nV0yH",
        "outputId": "2a5358ec-fbdb-4678-eee6-43112708af5b"
      },
      "execution_count": 49,
      "outputs": [
        {
          "output_type": "stream",
          "name": "stdout",
          "text": [
            "torch.Size([32, 1, 28, 28])\n",
            "torch.Size([32])\n"
          ]
        }
      ]
    },
    {
      "cell_type": "code",
      "source": [
        "outputs = model(images)  # Pass the batch of images through the model\n",
        "print(outputs)  # Print the outputs\n",
        "print(outputs.shape)  # Check the shape of the outputs\n"
      ],
      "metadata": {
        "colab": {
          "base_uri": "https://localhost:8080/"
        },
        "id": "umw5Zsz2V5kX",
        "outputId": "2ab72fd0-f402-4516-9023-c935ee369a24"
      },
      "execution_count": 50,
      "outputs": [
        {
          "output_type": "stream",
          "name": "stdout",
          "text": [
            "tensor([[[[0.2161, 0.1700, 0.1390,  ..., 0.1390, 0.1057, 0.0439],\n",
            "          [0.3483, 0.3379, 0.3171,  ..., 0.3171, 0.3176, 0.1228],\n",
            "          [0.3408, 0.3429, 0.3234,  ..., 0.3234, 0.2808, 0.1407],\n",
            "          ...,\n",
            "          [0.3408, 0.3429, 0.3234,  ..., 0.3234, 0.2808, 0.1407],\n",
            "          [0.3784, 0.3664, 0.3764,  ..., 0.3764, 0.3224, 0.1371],\n",
            "          [0.2003, 0.2098, 0.2442,  ..., 0.2442, 0.2333, 0.1756]],\n",
            "\n",
            "         [[0.0000, 0.0000, 0.0000,  ..., 0.0000, 0.0000, 0.0000],\n",
            "          [0.0000, 0.0000, 0.0000,  ..., 0.0000, 0.0000, 0.0000],\n",
            "          [0.0000, 0.0000, 0.0000,  ..., 0.0000, 0.0000, 0.0000],\n",
            "          ...,\n",
            "          [0.0000, 0.0000, 0.0000,  ..., 0.0000, 0.0000, 0.0000],\n",
            "          [0.0000, 0.0000, 0.0000,  ..., 0.0000, 0.0000, 0.0000],\n",
            "          [0.0000, 0.0000, 0.0000,  ..., 0.0000, 0.0000, 0.0000]],\n",
            "\n",
            "         [[0.0736, 0.1165, 0.1594,  ..., 0.1594, 0.1923, 0.1094],\n",
            "          [0.1030, 0.2429, 0.2410,  ..., 0.2410, 0.2233, 0.1730],\n",
            "          [0.0754, 0.2232, 0.2204,  ..., 0.2204, 0.2060, 0.1667],\n",
            "          ...,\n",
            "          [0.0754, 0.2232, 0.2204,  ..., 0.2204, 0.2060, 0.1667],\n",
            "          [0.0796, 0.1334, 0.1504,  ..., 0.1504, 0.1194, 0.1143],\n",
            "          [0.0000, 0.0432, 0.0357,  ..., 0.0357, 0.0000, 0.0310]],\n",
            "\n",
            "         ...,\n",
            "\n",
            "         [[0.2342, 0.1919, 0.1941,  ..., 0.1941, 0.1696, 0.1384],\n",
            "          [0.2918, 0.2876, 0.3662,  ..., 0.3662, 0.3526, 0.2101],\n",
            "          [0.3322, 0.2869, 0.3544,  ..., 0.3544, 0.2960, 0.2233],\n",
            "          ...,\n",
            "          [0.3322, 0.2869, 0.3544,  ..., 0.3544, 0.2960, 0.2233],\n",
            "          [0.3610, 0.3401, 0.4039,  ..., 0.4039, 0.3068, 0.2662],\n",
            "          [0.2275, 0.1735, 0.2061,  ..., 0.2061, 0.1728, 0.1024]],\n",
            "\n",
            "         [[0.0214, 0.0000, 0.0000,  ..., 0.0000, 0.0000, 0.0000],\n",
            "          [0.0852, 0.0184, 0.0059,  ..., 0.0059, 0.0000, 0.0000],\n",
            "          [0.0815, 0.0045, 0.0010,  ..., 0.0010, 0.0000, 0.0000],\n",
            "          ...,\n",
            "          [0.0815, 0.0045, 0.0010,  ..., 0.0010, 0.0000, 0.0000],\n",
            "          [0.0920, 0.0072, 0.0174,  ..., 0.0174, 0.0000, 0.0000],\n",
            "          [0.1372, 0.0719, 0.0712,  ..., 0.0712, 0.0000, 0.0075]],\n",
            "\n",
            "         [[0.0000, 0.0000, 0.0000,  ..., 0.0000, 0.0000, 0.0000],\n",
            "          [0.0044, 0.0000, 0.0000,  ..., 0.0000, 0.0000, 0.0000],\n",
            "          [0.0000, 0.0000, 0.0000,  ..., 0.0000, 0.0000, 0.0000],\n",
            "          ...,\n",
            "          [0.0000, 0.0000, 0.0000,  ..., 0.0000, 0.0000, 0.0000],\n",
            "          [0.0000, 0.0000, 0.0000,  ..., 0.0000, 0.0000, 0.0000],\n",
            "          [0.0443, 0.0054, 0.0122,  ..., 0.0122, 0.0000, 0.0000]]],\n",
            "\n",
            "\n",
            "        [[[0.2161, 0.1700, 0.1390,  ..., 0.1390, 0.1057, 0.0439],\n",
            "          [0.3483, 0.3379, 0.3171,  ..., 0.3171, 0.3176, 0.1228],\n",
            "          [0.3408, 0.3429, 0.3234,  ..., 0.3234, 0.2808, 0.1407],\n",
            "          ...,\n",
            "          [0.3408, 0.3429, 0.3234,  ..., 0.3234, 0.2808, 0.1407],\n",
            "          [0.3784, 0.3664, 0.3764,  ..., 0.3764, 0.3224, 0.1371],\n",
            "          [0.2003, 0.2098, 0.2442,  ..., 0.2442, 0.2333, 0.1756]],\n",
            "\n",
            "         [[0.0000, 0.0000, 0.0000,  ..., 0.0000, 0.0000, 0.0000],\n",
            "          [0.0000, 0.0000, 0.0000,  ..., 0.0000, 0.0000, 0.0000],\n",
            "          [0.0000, 0.0000, 0.0000,  ..., 0.0000, 0.0000, 0.0000],\n",
            "          ...,\n",
            "          [0.0000, 0.0000, 0.0000,  ..., 0.0000, 0.0000, 0.0000],\n",
            "          [0.0000, 0.0000, 0.0000,  ..., 0.0000, 0.0000, 0.0000],\n",
            "          [0.0000, 0.0000, 0.0000,  ..., 0.0000, 0.0000, 0.0000]],\n",
            "\n",
            "         [[0.0736, 0.1165, 0.1594,  ..., 0.1594, 0.1923, 0.1094],\n",
            "          [0.1030, 0.2429, 0.2410,  ..., 0.2410, 0.2233, 0.1730],\n",
            "          [0.0754, 0.2232, 0.2204,  ..., 0.2204, 0.2060, 0.1667],\n",
            "          ...,\n",
            "          [0.0754, 0.2232, 0.2204,  ..., 0.2204, 0.2060, 0.1667],\n",
            "          [0.0796, 0.1334, 0.1504,  ..., 0.1504, 0.1194, 0.1143],\n",
            "          [0.0000, 0.0432, 0.0357,  ..., 0.0357, 0.0000, 0.0310]],\n",
            "\n",
            "         ...,\n",
            "\n",
            "         [[0.2342, 0.1919, 0.1941,  ..., 0.1941, 0.1696, 0.1384],\n",
            "          [0.2918, 0.2876, 0.3662,  ..., 0.3662, 0.3526, 0.2101],\n",
            "          [0.3322, 0.2869, 0.3544,  ..., 0.3544, 0.2960, 0.2233],\n",
            "          ...,\n",
            "          [0.3322, 0.2869, 0.3544,  ..., 0.3544, 0.2960, 0.2233],\n",
            "          [0.3610, 0.3401, 0.4039,  ..., 0.4039, 0.3068, 0.2662],\n",
            "          [0.2275, 0.1735, 0.2061,  ..., 0.2061, 0.1728, 0.1024]],\n",
            "\n",
            "         [[0.0214, 0.0000, 0.0000,  ..., 0.0000, 0.0000, 0.0000],\n",
            "          [0.0852, 0.0184, 0.0059,  ..., 0.0059, 0.0000, 0.0000],\n",
            "          [0.0815, 0.0045, 0.0010,  ..., 0.0010, 0.0000, 0.0000],\n",
            "          ...,\n",
            "          [0.0815, 0.0045, 0.0010,  ..., 0.0010, 0.0000, 0.0000],\n",
            "          [0.0920, 0.0072, 0.0174,  ..., 0.0174, 0.0000, 0.0000],\n",
            "          [0.1372, 0.0719, 0.0712,  ..., 0.0712, 0.0000, 0.0075]],\n",
            "\n",
            "         [[0.0000, 0.0000, 0.0000,  ..., 0.0000, 0.0000, 0.0000],\n",
            "          [0.0044, 0.0000, 0.0000,  ..., 0.0000, 0.0000, 0.0000],\n",
            "          [0.0000, 0.0000, 0.0000,  ..., 0.0000, 0.0000, 0.0000],\n",
            "          ...,\n",
            "          [0.0000, 0.0000, 0.0000,  ..., 0.0000, 0.0000, 0.0000],\n",
            "          [0.0000, 0.0000, 0.0000,  ..., 0.0000, 0.0000, 0.0000],\n",
            "          [0.0443, 0.0054, 0.0122,  ..., 0.0122, 0.0000, 0.0000]]],\n",
            "\n",
            "\n",
            "        [[[0.2161, 0.1700, 0.1390,  ..., 0.1390, 0.1057, 0.0439],\n",
            "          [0.3483, 0.3379, 0.3171,  ..., 0.3171, 0.3176, 0.1228],\n",
            "          [0.3408, 0.3429, 0.3234,  ..., 0.3234, 0.2808, 0.1407],\n",
            "          ...,\n",
            "          [0.3408, 0.3429, 0.3234,  ..., 0.3234, 0.2808, 0.1407],\n",
            "          [0.3784, 0.3664, 0.3764,  ..., 0.3764, 0.3224, 0.1371],\n",
            "          [0.2003, 0.2098, 0.2442,  ..., 0.2442, 0.2333, 0.1756]],\n",
            "\n",
            "         [[0.0000, 0.0000, 0.0000,  ..., 0.0000, 0.0000, 0.0000],\n",
            "          [0.0000, 0.0000, 0.0000,  ..., 0.0000, 0.0000, 0.0000],\n",
            "          [0.0000, 0.0000, 0.0000,  ..., 0.0000, 0.0000, 0.0000],\n",
            "          ...,\n",
            "          [0.0000, 0.0000, 0.0000,  ..., 0.0000, 0.0000, 0.0000],\n",
            "          [0.0000, 0.0000, 0.0000,  ..., 0.0000, 0.0000, 0.0000],\n",
            "          [0.0000, 0.0000, 0.0000,  ..., 0.0000, 0.0000, 0.0000]],\n",
            "\n",
            "         [[0.0736, 0.1165, 0.1594,  ..., 0.1594, 0.1923, 0.1094],\n",
            "          [0.1030, 0.2429, 0.2410,  ..., 0.2410, 0.2233, 0.1730],\n",
            "          [0.0754, 0.2232, 0.2204,  ..., 0.2204, 0.2060, 0.1667],\n",
            "          ...,\n",
            "          [0.0754, 0.2232, 0.2204,  ..., 0.2204, 0.2060, 0.1667],\n",
            "          [0.0796, 0.1334, 0.1504,  ..., 0.1504, 0.1194, 0.1143],\n",
            "          [0.0000, 0.0432, 0.0357,  ..., 0.0357, 0.0000, 0.0310]],\n",
            "\n",
            "         ...,\n",
            "\n",
            "         [[0.2342, 0.1919, 0.1941,  ..., 0.1941, 0.1696, 0.1384],\n",
            "          [0.2918, 0.2876, 0.3662,  ..., 0.3662, 0.3526, 0.2101],\n",
            "          [0.3322, 0.2869, 0.3544,  ..., 0.3544, 0.2960, 0.2233],\n",
            "          ...,\n",
            "          [0.3322, 0.2869, 0.3544,  ..., 0.3544, 0.2960, 0.2233],\n",
            "          [0.3610, 0.3401, 0.4039,  ..., 0.4039, 0.3068, 0.2662],\n",
            "          [0.2275, 0.1735, 0.2061,  ..., 0.2061, 0.1728, 0.1024]],\n",
            "\n",
            "         [[0.0214, 0.0000, 0.0000,  ..., 0.0000, 0.0000, 0.0000],\n",
            "          [0.0852, 0.0184, 0.0059,  ..., 0.0059, 0.0000, 0.0000],\n",
            "          [0.0815, 0.0045, 0.0010,  ..., 0.0010, 0.0000, 0.0000],\n",
            "          ...,\n",
            "          [0.0815, 0.0045, 0.0010,  ..., 0.0010, 0.0000, 0.0000],\n",
            "          [0.0920, 0.0072, 0.0174,  ..., 0.0174, 0.0000, 0.0000],\n",
            "          [0.1372, 0.0719, 0.0712,  ..., 0.0712, 0.0000, 0.0075]],\n",
            "\n",
            "         [[0.0000, 0.0000, 0.0000,  ..., 0.0000, 0.0000, 0.0000],\n",
            "          [0.0044, 0.0000, 0.0000,  ..., 0.0000, 0.0000, 0.0000],\n",
            "          [0.0000, 0.0000, 0.0000,  ..., 0.0000, 0.0000, 0.0000],\n",
            "          ...,\n",
            "          [0.0000, 0.0000, 0.0000,  ..., 0.0000, 0.0000, 0.0000],\n",
            "          [0.0000, 0.0000, 0.0000,  ..., 0.0000, 0.0000, 0.0000],\n",
            "          [0.0443, 0.0054, 0.0122,  ..., 0.0122, 0.0000, 0.0000]]],\n",
            "\n",
            "\n",
            "        ...,\n",
            "\n",
            "\n",
            "        [[[0.2161, 0.1700, 0.1390,  ..., 0.1390, 0.1057, 0.0439],\n",
            "          [0.3483, 0.3379, 0.3171,  ..., 0.3171, 0.3176, 0.1228],\n",
            "          [0.3408, 0.3429, 0.3234,  ..., 0.3234, 0.2808, 0.1407],\n",
            "          ...,\n",
            "          [0.3408, 0.3429, 0.3234,  ..., 0.3234, 0.2808, 0.1407],\n",
            "          [0.3784, 0.3664, 0.3764,  ..., 0.3764, 0.3224, 0.1371],\n",
            "          [0.2003, 0.2098, 0.2442,  ..., 0.2442, 0.2333, 0.1756]],\n",
            "\n",
            "         [[0.0000, 0.0000, 0.0000,  ..., 0.0000, 0.0000, 0.0000],\n",
            "          [0.0000, 0.0000, 0.0000,  ..., 0.0000, 0.0000, 0.0000],\n",
            "          [0.0000, 0.0000, 0.0000,  ..., 0.0000, 0.0000, 0.0000],\n",
            "          ...,\n",
            "          [0.0000, 0.0000, 0.0000,  ..., 0.0000, 0.0000, 0.0000],\n",
            "          [0.0000, 0.0000, 0.0000,  ..., 0.0000, 0.0000, 0.0000],\n",
            "          [0.0000, 0.0000, 0.0000,  ..., 0.0000, 0.0000, 0.0000]],\n",
            "\n",
            "         [[0.0736, 0.1165, 0.1594,  ..., 0.1594, 0.1923, 0.1094],\n",
            "          [0.1030, 0.2429, 0.2410,  ..., 0.2410, 0.2233, 0.1730],\n",
            "          [0.0754, 0.2232, 0.2204,  ..., 0.2204, 0.2060, 0.1667],\n",
            "          ...,\n",
            "          [0.0754, 0.2232, 0.2204,  ..., 0.2204, 0.2060, 0.1667],\n",
            "          [0.0796, 0.1334, 0.1504,  ..., 0.1504, 0.1194, 0.1143],\n",
            "          [0.0000, 0.0432, 0.0357,  ..., 0.0357, 0.0000, 0.0310]],\n",
            "\n",
            "         ...,\n",
            "\n",
            "         [[0.2342, 0.1919, 0.1941,  ..., 0.1941, 0.1696, 0.1384],\n",
            "          [0.2918, 0.2876, 0.3662,  ..., 0.3662, 0.3526, 0.2101],\n",
            "          [0.3322, 0.2869, 0.3544,  ..., 0.3544, 0.2960, 0.2233],\n",
            "          ...,\n",
            "          [0.3322, 0.2869, 0.3544,  ..., 0.3544, 0.2960, 0.2233],\n",
            "          [0.3610, 0.3401, 0.4039,  ..., 0.4039, 0.3068, 0.2662],\n",
            "          [0.2275, 0.1735, 0.2061,  ..., 0.2061, 0.1728, 0.1024]],\n",
            "\n",
            "         [[0.0214, 0.0000, 0.0000,  ..., 0.0000, 0.0000, 0.0000],\n",
            "          [0.0852, 0.0184, 0.0059,  ..., 0.0059, 0.0000, 0.0000],\n",
            "          [0.0815, 0.0045, 0.0010,  ..., 0.0010, 0.0000, 0.0000],\n",
            "          ...,\n",
            "          [0.0815, 0.0045, 0.0010,  ..., 0.0010, 0.0000, 0.0000],\n",
            "          [0.0920, 0.0072, 0.0174,  ..., 0.0174, 0.0000, 0.0000],\n",
            "          [0.1372, 0.0719, 0.0712,  ..., 0.0712, 0.0000, 0.0075]],\n",
            "\n",
            "         [[0.0000, 0.0000, 0.0000,  ..., 0.0000, 0.0000, 0.0000],\n",
            "          [0.0044, 0.0000, 0.0000,  ..., 0.0000, 0.0000, 0.0000],\n",
            "          [0.0000, 0.0000, 0.0000,  ..., 0.0000, 0.0000, 0.0000],\n",
            "          ...,\n",
            "          [0.0000, 0.0000, 0.0000,  ..., 0.0000, 0.0000, 0.0000],\n",
            "          [0.0000, 0.0000, 0.0000,  ..., 0.0000, 0.0000, 0.0000],\n",
            "          [0.0443, 0.0054, 0.0122,  ..., 0.0122, 0.0000, 0.0000]]],\n",
            "\n",
            "\n",
            "        [[[0.2161, 0.1700, 0.1390,  ..., 0.1390, 0.1057, 0.0439],\n",
            "          [0.3483, 0.3379, 0.3171,  ..., 0.3171, 0.3176, 0.1228],\n",
            "          [0.3408, 0.3429, 0.3234,  ..., 0.3234, 0.2808, 0.1407],\n",
            "          ...,\n",
            "          [0.3408, 0.3429, 0.3234,  ..., 0.3234, 0.2808, 0.1407],\n",
            "          [0.3784, 0.3664, 0.3764,  ..., 0.3764, 0.3224, 0.1371],\n",
            "          [0.2003, 0.2098, 0.2442,  ..., 0.2442, 0.2333, 0.1756]],\n",
            "\n",
            "         [[0.0000, 0.0000, 0.0000,  ..., 0.0000, 0.0000, 0.0000],\n",
            "          [0.0000, 0.0000, 0.0000,  ..., 0.0000, 0.0000, 0.0000],\n",
            "          [0.0000, 0.0000, 0.0000,  ..., 0.0000, 0.0000, 0.0000],\n",
            "          ...,\n",
            "          [0.0000, 0.0000, 0.0000,  ..., 0.0000, 0.0000, 0.0000],\n",
            "          [0.0000, 0.0000, 0.0000,  ..., 0.0000, 0.0000, 0.0000],\n",
            "          [0.0000, 0.0000, 0.0000,  ..., 0.0000, 0.0000, 0.0000]],\n",
            "\n",
            "         [[0.0736, 0.1165, 0.1594,  ..., 0.1594, 0.1923, 0.1094],\n",
            "          [0.1030, 0.2429, 0.2410,  ..., 0.2410, 0.2233, 0.1730],\n",
            "          [0.0754, 0.2232, 0.2204,  ..., 0.2204, 0.2060, 0.1667],\n",
            "          ...,\n",
            "          [0.0754, 0.2232, 0.2204,  ..., 0.2204, 0.2060, 0.1667],\n",
            "          [0.0796, 0.1334, 0.1504,  ..., 0.1504, 0.1194, 0.1143],\n",
            "          [0.0000, 0.0432, 0.0357,  ..., 0.0357, 0.0000, 0.0310]],\n",
            "\n",
            "         ...,\n",
            "\n",
            "         [[0.2342, 0.1919, 0.1941,  ..., 0.1941, 0.1696, 0.1384],\n",
            "          [0.2918, 0.2876, 0.3662,  ..., 0.3662, 0.3526, 0.2101],\n",
            "          [0.3322, 0.2869, 0.3544,  ..., 0.3544, 0.2960, 0.2233],\n",
            "          ...,\n",
            "          [0.3322, 0.2869, 0.3544,  ..., 0.3544, 0.2960, 0.2233],\n",
            "          [0.3610, 0.3401, 0.4039,  ..., 0.4039, 0.3068, 0.2662],\n",
            "          [0.2275, 0.1735, 0.2061,  ..., 0.2061, 0.1728, 0.1024]],\n",
            "\n",
            "         [[0.0214, 0.0000, 0.0000,  ..., 0.0000, 0.0000, 0.0000],\n",
            "          [0.0852, 0.0184, 0.0059,  ..., 0.0059, 0.0000, 0.0000],\n",
            "          [0.0815, 0.0045, 0.0010,  ..., 0.0010, 0.0000, 0.0000],\n",
            "          ...,\n",
            "          [0.0815, 0.0045, 0.0010,  ..., 0.0010, 0.0000, 0.0000],\n",
            "          [0.0920, 0.0072, 0.0174,  ..., 0.0174, 0.0000, 0.0000],\n",
            "          [0.1372, 0.0719, 0.0712,  ..., 0.0712, 0.0000, 0.0075]],\n",
            "\n",
            "         [[0.0000, 0.0000, 0.0000,  ..., 0.0000, 0.0000, 0.0000],\n",
            "          [0.0044, 0.0000, 0.0000,  ..., 0.0000, 0.0000, 0.0000],\n",
            "          [0.0000, 0.0000, 0.0000,  ..., 0.0000, 0.0000, 0.0000],\n",
            "          ...,\n",
            "          [0.0000, 0.0000, 0.0000,  ..., 0.0000, 0.0000, 0.0000],\n",
            "          [0.0000, 0.0000, 0.0000,  ..., 0.0000, 0.0000, 0.0000],\n",
            "          [0.0443, 0.0054, 0.0122,  ..., 0.0122, 0.0000, 0.0000]]],\n",
            "\n",
            "\n",
            "        [[[0.2161, 0.1700, 0.1390,  ..., 0.1390, 0.1057, 0.0439],\n",
            "          [0.3483, 0.3379, 0.3171,  ..., 0.3171, 0.3176, 0.1228],\n",
            "          [0.3408, 0.3429, 0.3234,  ..., 0.3234, 0.2808, 0.1407],\n",
            "          ...,\n",
            "          [0.3408, 0.3429, 0.3234,  ..., 0.3234, 0.2808, 0.1407],\n",
            "          [0.3784, 0.3664, 0.3764,  ..., 0.3764, 0.3224, 0.1371],\n",
            "          [0.2003, 0.2098, 0.2442,  ..., 0.2442, 0.2333, 0.1756]],\n",
            "\n",
            "         [[0.0000, 0.0000, 0.0000,  ..., 0.0000, 0.0000, 0.0000],\n",
            "          [0.0000, 0.0000, 0.0000,  ..., 0.0000, 0.0000, 0.0000],\n",
            "          [0.0000, 0.0000, 0.0000,  ..., 0.0000, 0.0000, 0.0000],\n",
            "          ...,\n",
            "          [0.0000, 0.0000, 0.0000,  ..., 0.0000, 0.0000, 0.0000],\n",
            "          [0.0000, 0.0000, 0.0000,  ..., 0.0000, 0.0000, 0.0000],\n",
            "          [0.0000, 0.0000, 0.0000,  ..., 0.0000, 0.0000, 0.0000]],\n",
            "\n",
            "         [[0.0736, 0.1165, 0.1594,  ..., 0.1594, 0.1923, 0.1094],\n",
            "          [0.1030, 0.2429, 0.2410,  ..., 0.2410, 0.2233, 0.1730],\n",
            "          [0.0754, 0.2232, 0.2204,  ..., 0.2204, 0.2060, 0.1667],\n",
            "          ...,\n",
            "          [0.0754, 0.2232, 0.2204,  ..., 0.2204, 0.2060, 0.1667],\n",
            "          [0.0796, 0.1334, 0.1504,  ..., 0.1504, 0.1194, 0.1143],\n",
            "          [0.0000, 0.0432, 0.0357,  ..., 0.0357, 0.0000, 0.0310]],\n",
            "\n",
            "         ...,\n",
            "\n",
            "         [[0.2342, 0.1919, 0.1941,  ..., 0.1941, 0.1696, 0.1384],\n",
            "          [0.2918, 0.2876, 0.3662,  ..., 0.3662, 0.3526, 0.2101],\n",
            "          [0.3322, 0.2869, 0.3544,  ..., 0.3544, 0.2960, 0.2233],\n",
            "          ...,\n",
            "          [0.3322, 0.2869, 0.3544,  ..., 0.3544, 0.2960, 0.2233],\n",
            "          [0.3610, 0.3401, 0.4039,  ..., 0.4039, 0.3068, 0.2662],\n",
            "          [0.2275, 0.1735, 0.2061,  ..., 0.2061, 0.1728, 0.1024]],\n",
            "\n",
            "         [[0.0214, 0.0000, 0.0000,  ..., 0.0000, 0.0000, 0.0000],\n",
            "          [0.0852, 0.0184, 0.0059,  ..., 0.0059, 0.0000, 0.0000],\n",
            "          [0.0815, 0.0045, 0.0010,  ..., 0.0010, 0.0000, 0.0000],\n",
            "          ...,\n",
            "          [0.0815, 0.0045, 0.0010,  ..., 0.0010, 0.0000, 0.0000],\n",
            "          [0.0920, 0.0072, 0.0174,  ..., 0.0174, 0.0000, 0.0000],\n",
            "          [0.1372, 0.0719, 0.0712,  ..., 0.0712, 0.0000, 0.0075]],\n",
            "\n",
            "         [[0.0000, 0.0000, 0.0000,  ..., 0.0000, 0.0000, 0.0000],\n",
            "          [0.0044, 0.0000, 0.0000,  ..., 0.0000, 0.0000, 0.0000],\n",
            "          [0.0000, 0.0000, 0.0000,  ..., 0.0000, 0.0000, 0.0000],\n",
            "          ...,\n",
            "          [0.0000, 0.0000, 0.0000,  ..., 0.0000, 0.0000, 0.0000],\n",
            "          [0.0000, 0.0000, 0.0000,  ..., 0.0000, 0.0000, 0.0000],\n",
            "          [0.0443, 0.0054, 0.0122,  ..., 0.0122, 0.0000, 0.0000]]]],\n",
            "       grad_fn=<ReluBackward0>)\n",
            "torch.Size([32, 64, 28, 28])\n"
          ]
        }
      ]
    },
    {
      "cell_type": "code",
      "source": [
        "def forward(self, x):\n",
        "    x = self.pool(torch.relu(self.conv1(x)))\n",
        "    x = self.pool(torch.relu(self.conv2(x)))\n",
        "    x = x.view(-1, 64 * 7 * 7)\n",
        "def forward(self, x):\n",
        "    x = self.pool(torch.relu(self.conv1(x)))\n",
        "    x = self.pool(torch.relu(self.conv2(x)))\n",
        "    x = x.view(-1, 64 * 7 * 7)\n",
        "    x = torch.relu(self.fc1(x))\n",
        "    x = self.fc2(x)\n",
        "    return x  # This line is not indented properly, so it’s outside the function.\n",
        "\n"
      ],
      "metadata": {
        "id": "E2rZgCGbWEg_"
      },
      "execution_count": 54,
      "outputs": []
    },
    {
      "cell_type": "code",
      "source": [
        "# Instantiate the model\n",
        "model = SimpleCNN()\n",
        "\n",
        "# Pass a batch of random input data (e.g., 32 images of size 28x28)\n",
        "dummy_input = torch.randn(32, 1, 28, 28)  # Batch size=32, 1 channel, 28x28 image size\n",
        "output = model(dummy_input)\n",
        "\n",
        "# Print the shape of the output\n",
        "print(output.shape)  # Should be (32, 10) for 32 images and 10 output classes\n"
      ],
      "metadata": {
        "colab": {
          "base_uri": "https://localhost:8080/"
        },
        "id": "EdA2QyeRWJHg",
        "outputId": "83a80c50-4bce-4f1f-8160-02652b60041f"
      },
      "execution_count": 79,
      "outputs": [
        {
          "output_type": "stream",
          "name": "stdout",
          "text": [
            "torch.Size([32, 10])\n"
          ]
        }
      ]
    },
    {
      "cell_type": "code",
      "source": [],
      "metadata": {
        "id": "zDe4VoCyYP-g"
      },
      "execution_count": 79,
      "outputs": []
    },
    {
      "cell_type": "code",
      "source": [
        "for images, labels in train_loader:\n",
        "    outputs = model(images)\n",
        "    print(f\"Model output shape: {outputs.shape}\")  # Should be [batch_size, 10]\n",
        "    print(f\"Labels shape: {labels.shape}\")  # Should be [batch_size]\n",
        "    break\n"
      ],
      "metadata": {
        "colab": {
          "base_uri": "https://localhost:8080/"
        },
        "id": "8DcY3Td0YY7n",
        "outputId": "91331bb3-f7f1-4254-d691-2b7197ed04de"
      },
      "execution_count": 57,
      "outputs": [
        {
          "output_type": "stream",
          "name": "stdout",
          "text": [
            "Model output shape: torch.Size([32, 64, 28, 28])\n",
            "Labels shape: torch.Size([32])\n"
          ]
        }
      ]
    },
    {
      "cell_type": "code",
      "source": [
        "print(f\"Labels: {labels}\")\n"
      ],
      "metadata": {
        "colab": {
          "base_uri": "https://localhost:8080/"
        },
        "id": "WMCL7tVIYqi4",
        "outputId": "ce0af290-75f8-4916-ab26-2b0e4787632f"
      },
      "execution_count": 58,
      "outputs": [
        {
          "output_type": "stream",
          "name": "stdout",
          "text": [
            "Labels: tensor([1, 4, 8, 2, 7, 6, 4, 0, 8, 2, 3, 7, 3, 7, 9, 9, 9, 4, 0, 7, 0, 7, 5, 9,\n",
            "        7, 7, 3, 9, 4, 4, 8, 2])\n"
          ]
        }
      ]
    },
    {
      "cell_type": "code",
      "source": [
        "def train_model(model, train_loader, criterion, optimizer, num_epochs=2):\n",
        "    for epoch in range(num_epochs):\n",
        "        running_loss = 0.0\n",
        "        for images, labels in train_loader:\n",
        "            optimizer.zero_grad()  # Clear gradients\n",
        "\n",
        "            # Forward pass\n",
        "            outputs = model(images)\n",
        "            if outputs is None:\n",
        "                raise RuntimeError(\"Model is returning None! Check the forward method.\")\n",
        "\n",
        "            # Check the shape of outputs and labels\n",
        "            print(f\"Outputs shape: {outputs.shape}, Labels shape: {labels.shape}\")\n",
        "\n",
        "            # Calculate the loss\n",
        "            loss = criterion(outputs, labels)\n",
        "\n",
        "            # Backward pass and optimization\n",
        "            loss.backward()\n",
        "            optimizer.step()\n",
        "\n",
        "            running_loss += loss.item()\n",
        "\n",
        "        print(f\"Epoch {epoch+1}/{num_epochs}, Loss: {running_loss/len(train_loader):.4f}\")\n"
      ],
      "metadata": {
        "id": "jOoLE6t1YvJu"
      },
      "execution_count": 59,
      "outputs": []
    },
    {
      "cell_type": "code",
      "source": [],
      "metadata": {
        "id": "4tD-NEr4Y1Yy"
      },
      "execution_count": 79,
      "outputs": []
    },
    {
      "source": [
        "import torch.nn as nn\n",
        "\n",
        "class MyModel(nn.Module):  # Example model class\n",
        "    def __init__(self):\n",
        "        super(MyModel, self).__init__()\n",
        "        # ... (other layers)\n",
        "        self.fc2 = nn.Linear(128, 10)  # Now within the class\n",
        "\n",
        "    def forward(self, x):\n",
        "        # ... (forward logic using self.fc2)\n",
        "        pass"
      ],
      "cell_type": "code",
      "metadata": {
        "id": "oDrM_P0OY9XO"
      },
      "execution_count": 61,
      "outputs": []
    },
    {
      "cell_type": "code",
      "source": [
        "\n"
      ],
      "metadata": {
        "id": "qGKHqxTuY5Ui"
      },
      "execution_count": 79,
      "outputs": []
    },
    {
      "source": [
        "import torch.nn as nn\n",
        "\n",
        "class MyModel(nn.Module):  # Example model class\n",
        "    def __init__(self):\n",
        "        super(MyModel, self).__init__()\n",
        "        # ... (other layers)\n",
        "        self.fc2 = nn.Linear(128, 10)  # Now within the class\n",
        "\n",
        "    def forward(self, x):\n",
        "        # ... (forward logic using self.fc2)\n",
        "        # Assuming x is the input to the model\n",
        "        # ... (other layers and operations)\n",
        "\n",
        "        # Make sure the output is flattened and passed through the final linear layer\n",
        "        x = x.view(x.size(0), -1)  # Flatten the tensor\n",
        "        x = self.fc2(x)  # Apply the final linear layer for classification\n",
        "\n",
        "        return x # Return the output"
      ],
      "cell_type": "code",
      "metadata": {
        "id": "CEaIcakaZMSG"
      },
      "execution_count": 63,
      "outputs": []
    },
    {
      "cell_type": "code",
      "source": [
        "def forward(self, x):\n",
        "    x = self.pool(torch.relu(self.conv1(x)))  # Convolution + ReLU + Pooling\n",
        "    x = self.pool(torch.relu(self.conv2(x)))  # Convolution + ReLU + Pooling\n",
        "    x = x.view(-1, 64 * 7 * 7)  # Flatten the 3D tensor to 1D (batch_size, 64 * 7 * 7)\n",
        "    x = torch.relu(self.fc1(x))  # Pass through the first fully connected layer\n",
        "    x = self.fc2(x)  # Pass through the second fully connected layer\n",
        "    return x  # Final predictions\n",
        "\n"
      ],
      "metadata": {
        "id": "2qF5tuwGZFB7"
      },
      "execution_count": 65,
      "outputs": []
    },
    {
      "cell_type": "code",
      "source": [
        "outputs = model(images)\n",
        "print(f\"Outputs shape: {outputs.shape}\")  # Expected: [32, 10]\n"
      ],
      "metadata": {
        "colab": {
          "base_uri": "https://localhost:8080/"
        },
        "id": "ZVrw0QEYZtIa",
        "outputId": "16f636fc-9ec3-4956-a461-b24a98c6d5de"
      },
      "execution_count": 66,
      "outputs": [
        {
          "output_type": "stream",
          "name": "stdout",
          "text": [
            "Outputs shape: torch.Size([32, 64, 28, 28])\n"
          ]
        }
      ]
    },
    {
      "cell_type": "code",
      "source": [
        "print(f\"Outputs shape: {outputs.shape}\")  # Should be [batch_size, 10]\n",
        "print(f\"Labels shape: {labels.shape}\")  # Should be [batch_size]\n",
        "print(f\"Labels: {labels}\")  # Check the values of labels\n"
      ],
      "metadata": {
        "colab": {
          "base_uri": "https://localhost:8080/"
        },
        "id": "O2FHg9bMaA0g",
        "outputId": "18cb4f0c-2661-4013-82a3-23925689f92c"
      },
      "execution_count": 68,
      "outputs": [
        {
          "output_type": "stream",
          "name": "stdout",
          "text": [
            "Outputs shape: torch.Size([32, 64, 28, 28])\n",
            "Labels shape: torch.Size([32])\n",
            "Labels: tensor([3, 6, 0, 5, 1, 6, 4, 0, 7, 6, 6, 9, 7, 9, 7, 6, 9, 5, 1, 1, 4, 0, 0, 4,\n",
            "        7, 8, 7, 2, 9, 9, 4, 4])\n"
          ]
        }
      ]
    },
    {
      "cell_type": "code",
      "source": [
        "def forward(self, x):\n",
        "    x = self.pool(torch.relu(self.conv1(x)))  # Convolution + ReLU + Pooling\n",
        "    x = self.pool(torch.relu(self.conv2(x)))  # Convolution + ReLU + Pooling\n",
        "    x = x.view(-1, 64 * 7 * 7)  # Flatten the 3D tensor to 1D\n",
        "    x = torch.relu(self.fc1(x))  # Fully connected layer 1\n",
        "    x = self.fc2(x)  # Fully connected layer 2 (logits for 10 classes)\n",
        "    return x\n"
      ],
      "metadata": {
        "id": "E7nSa0nuaGvw"
      },
      "execution_count": 69,
      "outputs": []
    },
    {
      "cell_type": "code",
      "source": [
        "outputs = model(images)\n",
        "print(f\"Outputs shape: {outputs.shape}\")  # Should be [32, 10]\n"
      ],
      "metadata": {
        "colab": {
          "base_uri": "https://localhost:8080/"
        },
        "id": "udSzZRdJaWj2",
        "outputId": "a68e772a-307e-4e3d-d177-0136592fd8ed"
      },
      "execution_count": 70,
      "outputs": [
        {
          "output_type": "stream",
          "name": "stdout",
          "text": [
            "Outputs shape: torch.Size([32, 64, 28, 28])\n"
          ]
        }
      ]
    },
    {
      "cell_type": "code",
      "source": [
        "print(f\"Labels: {labels}\")\n"
      ],
      "metadata": {
        "colab": {
          "base_uri": "https://localhost:8080/"
        },
        "id": "DKdw3NK0aY1j",
        "outputId": "80ccc609-d445-45e2-f7a1-09a1970a83bf"
      },
      "execution_count": 71,
      "outputs": [
        {
          "output_type": "stream",
          "name": "stdout",
          "text": [
            "Labels: tensor([3, 6, 0, 5, 1, 6, 4, 0, 7, 6, 6, 9, 7, 9, 7, 6, 9, 5, 1, 1, 4, 0, 0, 4,\n",
            "        7, 8, 7, 2, 9, 9, 4, 4])\n"
          ]
        }
      ]
    },
    {
      "cell_type": "code",
      "source": [
        "train_data = datasets.MNIST(root='./data', train=True, transform=transform, download=True)\n"
      ],
      "metadata": {
        "id": "Pfhq_aVeabqr"
      },
      "execution_count": 72,
      "outputs": []
    },
    {
      "cell_type": "code",
      "source": [
        "labels = labels.squeeze()  # Remove extra dimensions if necessary\n"
      ],
      "metadata": {
        "id": "6DnEYrq3ad4V"
      },
      "execution_count": 80,
      "outputs": []
    },
    {
      "cell_type": "code",
      "source": [],
      "metadata": {
        "id": "0Jv60oH1ahLq"
      },
      "execution_count": 79,
      "outputs": []
    },
    {
      "source": [],
      "cell_type": "code",
      "metadata": {
        "id": "ojuoW2measop"
      },
      "execution_count": 79,
      "outputs": []
    },
    {
      "source": [],
      "cell_type": "code",
      "metadata": {
        "id": "Hl_bVu_0ayh8"
      },
      "execution_count": 80,
      "outputs": []
    },
    {
      "source": [],
      "cell_type": "code",
      "metadata": {
        "id": "vip8yoxUa32v"
      },
      "execution_count": 80,
      "outputs": []
    },
    {
      "cell_type": "code",
      "source": [
        "# Import necessary libraries\n",
        "import torch\n",
        "import torch.nn as nn\n",
        "import torch.optim as optim\n",
        "from torchvision import datasets, transforms\n",
        "import matplotlib.pyplot as plt\n",
        "import numpy as np\n",
        "\n",
        "# Step 1: Data Loading and Transformation\n",
        "transform = transforms.Compose([\n",
        "    transforms.ToTensor(),  # Convert images to PyTorch tensors\n",
        "    transforms.Normalize((0.5,), (0.5,))  # Normalize pixel values between -1 and 1\n",
        "])\n",
        "\n",
        "# Load training and testing datasets\n",
        "train_data = datasets.MNIST(root='./data', train=True, transform=transform, download=True)\n",
        "test_data = datasets.MNIST(root='./data', train=False, transform=transform, download=True)\n",
        "\n",
        "# Create data loaders\n",
        "train_loader = torch.utils.data.DataLoader(train_data, batch_size=32, shuffle=True)\n",
        "test_loader = torch.utils.data.DataLoader(test_data, batch_size=32, shuffle=False)\n",
        "\n",
        "# Step 2: Define the CNN Model\n",
        "class SimpleCNN(nn.Module):\n",
        "    def __init__(self):\n",
        "        super(SimpleCNN, self).__init__()\n",
        "        self.conv1 = nn.Conv2d(1, 32, kernel_size=3, stride=1, padding=1)\n",
        "        self.conv2 = nn.Conv2d(32, 64, kernel_size=3, stride=1, padding=1)\n",
        "        self.pool = nn.MaxPool2d(kernel_size=2, stride=2)\n",
        "        self.fc1 = nn.Linear(64 * 7 * 7, 128)\n",
        "        self.fc2 = nn.Linear(128, 10)\n",
        "\n",
        "    def forward(self, x):\n",
        "        x = self.pool(torch.relu(self.conv1(x)))\n",
        "        x = self.pool(torch.relu(self.conv2(x)))\n",
        "        x = x.view(-1, 64 * 7 * 7)  # Flatten the feature maps\n",
        "        x = torch.relu(self.fc1(x))\n",
        "        x = self.fc2(x)\n",
        "        return x\n",
        "\n",
        "# Step 3: Initialize Model, Loss, and Optimizer\n",
        "model = SimpleCNN()\n",
        "criterion = nn.CrossEntropyLoss()  # Loss for classification tasks\n",
        "optimizer = optim.Adam(model.parameters(), lr=0.001)\n",
        "\n",
        "# Step 4: Define Training Function\n",
        "def train_model(model, train_loader, criterion, optimizer, num_epochs=2):\n",
        "    model.train()  # Set the model to training mode\n",
        "    for epoch in range(num_epochs):\n",
        "        running_loss = 0.0\n",
        "        for images, labels in train_loader:\n",
        "            optimizer.zero_grad()  # Clear gradients\n",
        "            outputs = model(images)  # Forward pass\n",
        "            loss = criterion(outputs, labels)  # Calculate loss\n",
        "            loss.backward()  # Backpropagation\n",
        "            optimizer.step()  # Update model weights\n",
        "\n",
        "            running_loss += loss.item()\n",
        "\n",
        "        # Print average loss for the epoch\n",
        "        print(f\"Epoch {epoch+1}/{num_epochs}, Loss: {running_loss/len(train_loader):.4f}\")\n",
        "\n",
        "# Step 5: Define Testing Function\n",
        "def test_model(model, test_loader):\n",
        "    model.eval()  # Set the model to evaluation mode\n",
        "    correct = 0\n",
        "    total = 0\n",
        "    with torch.no_grad():\n",
        "        for images, labels in test_loader:\n",
        "            outputs = model(images)\n",
        "            _, predicted = torch.max(outputs, 1)\n",
        "            total += labels.size(0)\n",
        "            correct += (predicted == labels).sum().item()\n",
        "    accuracy = 100 * correct / total\n",
        "    print(f\"Accuracy: {accuracy:.2f}%\")\n",
        "    return accuracy\n",
        "\n",
        "# Step 6: Train and Test the Model\n",
        "train_model(model, train_loader, criterion, optimizer, num_epochs=2)\n",
        "test_model(model, test_loader)\n",
        "\n",
        "# Step 7: Visualize Predictions\n",
        "def visualize_predictions(model, test_loader):\n",
        "    model.eval()  # Set the model to evaluation mode\n",
        "    images, labels = next(iter(test_loader))  # Get a batch of test data\n",
        "    outputs = model(images)  # Get model predictions\n",
        "    _, predicted = torch.max(outputs, 1)  # Get predicted class\n",
        "\n",
        "    # Plot the first 10 images with predictions\n",
        "    plt.figure(figsize=(12, 6))\n",
        "    for i in range(10):\n",
        "        plt.subplot(2, 5, i+1)\n",
        "        plt.imshow(images[i].squeeze(), cmap='gray')  # Show the image\n",
        "        plt.title(f\"True: {labels[i].item()}, Pred: {predicted[i].item()}\")\n",
        "        plt.axis('off')\n",
        "    plt.tight_layout()\n",
        "    plt.show()\n",
        "\n",
        "visualize_predictions(model, test_loader)\n"
      ],
      "metadata": {
        "colab": {
          "base_uri": "https://localhost:8080/",
          "height": 632
        },
        "id": "VZ029ZuXakr4",
        "outputId": "c85917db-eb03-4b1b-ff4e-b15fdbed2e6f"
      },
      "execution_count": 78,
      "outputs": [
        {
          "output_type": "stream",
          "name": "stdout",
          "text": [
            "Epoch 1/2, Loss: 0.1293\n",
            "Epoch 2/2, Loss: 0.0428\n",
            "Accuracy: 98.81%\n"
          ]
        },
        {
          "output_type": "display_data",
          "data": {
            "text/plain": [
              "<Figure size 1200x600 with 10 Axes>"
            ],
            "image/png": "[encoded data removed]"
          },
          "metadata": {}
        }
      ]
    }
  ]
}