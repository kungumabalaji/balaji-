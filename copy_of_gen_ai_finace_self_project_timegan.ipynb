{
  "nbformat": 4,
  "nbformat_minor": 0,
  "metadata": {
    "colab": {
      "provenance": [],
      "gpuType": "T4",
      "authorship_tag": "ABX9TyPE1L/sMY4+6NGhNc/2kUEd",
      "include_colab_link": true
    },
    "kernelspec": {
      "name": "python3",
      "display_name": "Python 3"
    },
    "language_info": {
      "name": "python"
    },
    "accelerator": "GPU"
  },
  "cells": [
    {
      "cell_type": "markdown",
      "metadata": {
        "id": "view-in-github",
        "colab_type": "text"
      },
      "source": [
        "<a href=\"https://colab.research.google.com/github/kungumabalaji/balaji-/blob/main/copy_of_gen_ai_finace_self_project_timegan.ipynb\" target=\"_parent\"><img src=\"https://colab.research.google.com/assets/colab-badge.svg\" alt=\"Open In Colab\"/></a>"
      ]
    },
    {
      "cell_type": "code",
      "execution_count": null,
      "metadata": {
        "id": "CxX9vgxQVR8v"
      },
      "outputs": [],
      "source": []
    },
    {
      "cell_type": "code",
      "source": [
        "pip install tensorflow pandas numpy scikit-learn matplotlib\n"
      ],
      "metadata": {
        "colab": {
          "base_uri": "https://localhost:8080/"
        },
        "id": "g2r9R5LvWak9",
        "outputId": "a80e80de-ddf9-46c5-cfd9-de453ca67882"
      },
      "execution_count": 1,
      "outputs": [
        {
          "output_type": "stream",
          "name": "stdout",
          "text": [
            "Requirement already satisfied: tensorflow in /usr/local/lib/python3.10/dist-packages (2.17.1)\n",
            "Requirement already satisfied: pandas in /usr/local/lib/python3.10/dist-packages (2.2.2)\n",
            "Requirement already satisfied: numpy in /usr/local/lib/python3.10/dist-packages (1.26.4)\n",
            "Requirement already satisfied: scikit-learn in /usr/local/lib/python3.10/dist-packages (1.5.2)\n",
            "Requirement already satisfied: matplotlib in /usr/local/lib/python3.10/dist-packages (3.8.0)\n",
            "Requirement already satisfied: absl-py>=1.0.0 in /usr/local/lib/python3.10/dist-packages (from tensorflow) (1.4.0)\n",
            "Requirement already satisfied: astunparse>=1.6.0 in /usr/local/lib/python3.10/dist-packages (from tensorflow) (1.6.3)\n",
            "Requirement already satisfied: flatbuffers>=24.3.25 in /usr/local/lib/python3.10/dist-packages (from tensorflow) (24.3.25)\n",
            "Requirement already satisfied: gast!=0.5.0,!=0.5.1,!=0.5.2,>=0.2.1 in /usr/local/lib/python3.10/dist-packages (from tensorflow) (0.6.0)\n",
            "Requirement already satisfied: google-pasta>=0.1.1 in /usr/local/lib/python3.10/dist-packages (from tensorflow) (0.2.0)\n",
            "Requirement already satisfied: h5py>=3.10.0 in /usr/local/lib/python3.10/dist-packages (from tensorflow) (3.12.1)\n",
            "Requirement already satisfied: libclang>=13.0.0 in /usr/local/lib/python3.10/dist-packages (from tensorflow) (18.1.1)\n",
            "Requirement already satisfied: ml-dtypes<0.5.0,>=0.3.1 in /usr/local/lib/python3.10/dist-packages (from tensorflow) (0.4.1)\n",
            "Requirement already satisfied: opt-einsum>=2.3.2 in /usr/local/lib/python3.10/dist-packages (from tensorflow) (3.4.0)\n",
            "Requirement already satisfied: packaging in /usr/local/lib/python3.10/dist-packages (from tensorflow) (24.2)\n",
            "Requirement already satisfied: protobuf!=4.21.0,!=4.21.1,!=4.21.2,!=4.21.3,!=4.21.4,!=4.21.5,<5.0.0dev,>=3.20.3 in /usr/local/lib/python3.10/dist-packages (from tensorflow) (4.25.5)\n",
            "Requirement already satisfied: requests<3,>=2.21.0 in /usr/local/lib/python3.10/dist-packages (from tensorflow) (2.32.3)\n",
            "Requirement already satisfied: setuptools in /usr/local/lib/python3.10/dist-packages (from tensorflow) (75.1.0)\n",
            "Requirement already satisfied: six>=1.12.0 in /usr/local/lib/python3.10/dist-packages (from tensorflow) (1.16.0)\n",
            "Requirement already satisfied: termcolor>=1.1.0 in /usr/local/lib/python3.10/dist-packages (from tensorflow) (2.5.0)\n",
            "Requirement already satisfied: typing-extensions>=3.6.6 in /usr/local/lib/python3.10/dist-packages (from tensorflow) (4.12.2)\n",
            "Requirement already satisfied: wrapt>=1.11.0 in /usr/local/lib/python3.10/dist-packages (from tensorflow) (1.16.0)\n",
            "Requirement already satisfied: grpcio<2.0,>=1.24.3 in /usr/local/lib/python3.10/dist-packages (from tensorflow) (1.67.1)\n",
            "Requirement already satisfied: tensorboard<2.18,>=2.17 in /usr/local/lib/python3.10/dist-packages (from tensorflow) (2.17.1)\n",
            "Requirement already satisfied: keras>=3.2.0 in /usr/local/lib/python3.10/dist-packages (from tensorflow) (3.5.0)\n",
            "Requirement already satisfied: tensorflow-io-gcs-filesystem>=0.23.1 in /usr/local/lib/python3.10/dist-packages (from tensorflow) (0.37.1)\n",
            "Requirement already satisfied: python-dateutil>=2.8.2 in /usr/local/lib/python3.10/dist-packages (from pandas) (2.8.2)\n",
            "Requirement already satisfied: pytz>=2020.1 in /usr/local/lib/python3.10/dist-packages (from pandas) (2024.2)\n",
            "Requirement already satisfied: tzdata>=2022.7 in /usr/local/lib/python3.10/dist-packages (from pandas) (2024.2)\n",
            "Requirement already satisfied: scipy>=1.6.0 in /usr/local/lib/python3.10/dist-packages (from scikit-learn) (1.13.1)\n",
            "Requirement already satisfied: joblib>=1.2.0 in /usr/local/lib/python3.10/dist-packages (from scikit-learn) (1.4.2)\n",
            "Requirement already satisfied: threadpoolctl>=3.1.0 in /usr/local/lib/python3.10/dist-packages (from scikit-learn) (3.5.0)\n",
            "Requirement already satisfied: contourpy>=1.0.1 in /usr/local/lib/python3.10/dist-packages (from matplotlib) (1.3.1)\n",
            "Requirement already satisfied: cycler>=0.10 in /usr/local/lib/python3.10/dist-packages (from matplotlib) (0.12.1)\n",
            "Requirement already satisfied: fonttools>=4.22.0 in /usr/local/lib/python3.10/dist-packages (from matplotlib) (4.54.1)\n",
            "Requirement already satisfied: kiwisolver>=1.0.1 in /usr/local/lib/python3.10/dist-packages (from matplotlib) (1.4.7)\n",
            "Requirement already satisfied: pillow>=6.2.0 in /usr/local/lib/python3.10/dist-packages (from matplotlib) (11.0.0)\n",
            "Requirement already satisfied: pyparsing>=2.3.1 in /usr/local/lib/python3.10/dist-packages (from matplotlib) (3.2.0)\n",
            "Requirement already satisfied: wheel<1.0,>=0.23.0 in /usr/local/lib/python3.10/dist-packages (from astunparse>=1.6.0->tensorflow) (0.45.0)\n",
            "Requirement already satisfied: rich in /usr/local/lib/python3.10/dist-packages (from keras>=3.2.0->tensorflow) (13.9.4)\n",
            "Requirement already satisfied: namex in /usr/local/lib/python3.10/dist-packages (from keras>=3.2.0->tensorflow) (0.0.8)\n",
            "Requirement already satisfied: optree in /usr/local/lib/python3.10/dist-packages (from keras>=3.2.0->tensorflow) (0.13.1)\n",
            "Requirement already satisfied: charset-normalizer<4,>=2 in /usr/local/lib/python3.10/dist-packages (from requests<3,>=2.21.0->tensorflow) (3.4.0)\n",
            "Requirement already satisfied: idna<4,>=2.5 in /usr/local/lib/python3.10/dist-packages (from requests<3,>=2.21.0->tensorflow) (3.10)\n",
            "Requirement already satisfied: urllib3<3,>=1.21.1 in /usr/local/lib/python3.10/dist-packages (from requests<3,>=2.21.0->tensorflow) (2.2.3)\n",
            "Requirement already satisfied: certifi>=2017.4.17 in /usr/local/lib/python3.10/dist-packages (from requests<3,>=2.21.0->tensorflow) (2024.8.30)\n",
            "Requirement already satisfied: markdown>=2.6.8 in /usr/local/lib/python3.10/dist-packages (from tensorboard<2.18,>=2.17->tensorflow) (3.7)\n",
            "Requirement already satisfied: tensorboard-data-server<0.8.0,>=0.7.0 in /usr/local/lib/python3.10/dist-packages (from tensorboard<2.18,>=2.17->tensorflow) (0.7.2)\n",
            "Requirement already satisfied: werkzeug>=1.0.1 in /usr/local/lib/python3.10/dist-packages (from tensorboard<2.18,>=2.17->tensorflow) (3.1.3)\n",
            "Requirement already satisfied: MarkupSafe>=2.1.1 in /usr/local/lib/python3.10/dist-packages (from werkzeug>=1.0.1->tensorboard<2.18,>=2.17->tensorflow) (3.0.2)\n",
            "Requirement already satisfied: markdown-it-py>=2.2.0 in /usr/local/lib/python3.10/dist-packages (from rich->keras>=3.2.0->tensorflow) (3.0.0)\n",
            "Requirement already satisfied: pygments<3.0.0,>=2.13.0 in /usr/local/lib/python3.10/dist-packages (from rich->keras>=3.2.0->tensorflow) (2.18.0)\n",
            "Requirement already satisfied: mdurl~=0.1 in /usr/local/lib/python3.10/dist-packages (from markdown-it-py>=2.2.0->rich->keras>=3.2.0->tensorflow) (0.1.2)\n"
          ]
        }
      ]
    },
    {
      "cell_type": "code",
      "source": [
        "import numpy as np\n",
        "import pandas as pd\n",
        "import matplotlib as plt\n",
        "import  tensorflow as tf\n",
        "from tensorflow.keras import layers\n",
        "from  sklearn.preprocessing import MinMaxScaler\n",
        "\n",
        "import pandas as pd\n",
        "import numpy as np\n",
        "from sklearn.preprocessing import MinMaxScaler\n",
        "import matplotlib.pyplot as plt"
      ],
      "metadata": {
        "id": "bHQw6HEYWS7G"
      },
      "execution_count": 2,
      "outputs": []
    },
    {
      "cell_type": "code",
      "source": [
        "\n",
        "\n",
        "# Finance data for stock price  (30 closing prices)\n",
        "data = {\n",
        "    'Date': pd.date_range(start='2023-01-01', periods=30, freq='D'),  # 30 dates from Jan 1, 2023\n",
        "    'Close': [150.25, 152.10, 151.30, 153.00, 155.50, 157.20, 156.00,\n",
        "              158.75, 160.00, 159.50, 161.20, 162.30, 160.80, 161.00,\n",
        "              162.10, 163.00, 165.25, 164.50, 166.10, 167.30, 168.50,\n",
        "              167.80, 169.00, 170.25, 171.00, 172.20, 170.50, 171.75,\n",
        "              172.10, 173.50]  # Now 30 closing prices, removed the extra one\n",
        "}\n",
        "\n",
        "# Check the lengths of Date and Close again\n",
        "print(f\"Length of Date list: {len(data['Date'])}\")\n",
        "print(f\"Length of Close list: {len(data['Close'])}\")\n",
        "\n",
        "# Create DataFrame from data dictionary\n",
        "df = pd.DataFrame(data)\n",
        "\n",
        "# Show the first few rows of the data\n",
        "print(df.head())\n",
        "\n",
        "# We will use only the 'Close' column for training\n",
        "time_series = df[['Close']].values\n",
        "\n",
        "# Normalize the data (between 0 and 1)\n",
        "scaler = MinMaxScaler()\n",
        "time_series_scaled = scaler.fit_transform(time_series)\n",
        "\n",
        "# Plot the normalized data\n",
        "plt.plot(time_series_scaled)\n",
        "plt.title(\"Normalized Stock Prices\")\n",
        "plt.xlabel(\"Days\")\n",
        "plt.ylabel(\"Normalized Price\")\n",
        "plt.show()\n"
      ],
      "metadata": {
        "colab": {
          "base_uri": "https://localhost:8080/",
          "height": 611
        },
        "id": "kFY8alrYWZcM",
        "outputId": "a4b54b0d-60f4-4902-b95b-f82085d81e3f"
      },
      "execution_count": 3,
      "outputs": [
        {
          "output_type": "stream",
          "name": "stdout",
          "text": [
            "Length of Date list: 30\n",
            "Length of Close list: 30\n",
            "        Date   Close\n",
            "0 2023-01-01  150.25\n",
            "1 2023-01-02  152.10\n",
            "2 2023-01-03  151.30\n",
            "3 2023-01-04  153.00\n",
            "4 2023-01-05  155.50\n"
          ]
        },
        {
          "output_type": "display_data",
          "data": {
            "text/plain": [
              "<Figure size 640x480 with 1 Axes>"
            ],
            "image/png": "[encoded data removed]"
          },
          "metadata": {}
        }
      ]
    },
    {
      "cell_type": "code",
      "source": [
        "# if we want to predict the tommarow stock price we need to do sequence like understand the pattern before and give the futire outcome\n",
        "# prepare the sequences for time series learning\n",
        "\n",
        "# Function to create sequences of data (sliding window)\n",
        "def create_sequences(data, seq_lef=30):  # def the function\n",
        "    sequences=[]   # craeteting an emplt list to store the result\n",
        "    for i in range(len(data)-seq_length): # it is loop for 5 times like like data is 35 total we need to do it for 30 because in financial market for a month its 30 days only  so its 5 times\n",
        "        sequences .append(data[i:i+seq_length])  # The line sequences.append(data[i:i+seq_length]) creates overlapping windows of time series data, each containing seq_length consecutive data points, to train the model on past patterns for future predictions.\n",
        "    return np .array (sequences)\n",
        "\n",
        "\n",
        "\n"
      ],
      "metadata": {
        "id": "JdU4BiB5YdQa"
      },
      "execution_count": 4,
      "outputs": []
    },
    {
      "cell_type": "code",
      "source": [
        "# Define the generator (generates fake sequences)  # gan has 2 models generator, discriminator\n",
        "def build_generator(input_shape): # defines the function to build gen model\n",
        "    model = tf.keras.Sequential([  #  its create a sequential model which allows us to add a layers\n",
        "        layers.Input(shape=input_shape), #  Input layer accepts sequences of shape (30, 1), which is the same as what the generator outputs.\n",
        "        layers.LSTM(128, return_sequences=True),\n",
        "        layers.Dense(input_shape[1])\n",
        "    ])\n",
        "    return model\n",
        "\n",
        "# Define the discriminator (discriminates real vs fake sequences)\n",
        "def build_discriminator(input_shape):\n",
        "    model = tf.keras.Sequential([\n",
        "        layers.Input(shape=input_shape),\n",
        "        layers.LSTM(128, return_sequences=True),\n",
        "        layers.Dense(1, activation='sigmoid')\n",
        "    ])\n",
        "    return model\n",
        "\n",
        "# Instantiate generator and discriminator\n",
        "generator = build_generator((30, 1))\n",
        "discriminator = build_discriminator((30, 1))\n",
        "\n"
      ],
      "metadata": {
        "id": "P85oSIPXZ2KD"
      },
      "execution_count": 5,
      "outputs": []
    },
    {
      "cell_type": "code",
      "source": [],
      "metadata": {
        "id": "20-YK9TAaeiu"
      },
      "execution_count": 5,
      "outputs": []
    },
    {
      "source": [],
      "cell_type": "code",
      "metadata": {
        "id": "yEqmq5oNDiw2"
      },
      "execution_count": 5,
      "outputs": []
    },
    {
      "source": [],
      "cell_type": "code",
      "metadata": {
        "id": "dvPOeyBJDkxJ"
      },
      "execution_count": 5,
      "outputs": []
    },
    {
      "source": [
        "def create_sequences(data, seq_length=30):  # def the function\n",
        "    sequences=[]   # craeteting an emplt list to store the result\n",
        "    for i in range(len(data)-seq_length):\n",
        "        sequences .append(data[i:i+seq_length])\n",
        "    return np .array (sequences)"
      ],
      "cell_type": "code",
      "metadata": {
        "id": "lWBw2yjyDqHd"
      },
      "execution_count": 6,
      "outputs": []
    },
    {
      "source": [],
      "cell_type": "code",
      "metadata": {
        "id": "T7UQ4TS4Drls"
      },
      "execution_count": 6,
      "outputs": []
    },
    {
      "source": [
        "sequences = create_sequences(time_series_scaled, seq_length=30)  # Change 'seq_lef' to 'seq_length'"
      ],
      "cell_type": "code",
      "metadata": {
        "id": "ARQ1vsvMDw3U"
      },
      "execution_count": 7,
      "outputs": []
    },
    {
      "cell_type": "code",
      "source": [
        "\n",
        "optimizer = tf.keras.optimizers.Adam(0.001)  # Set the optimizer"
      ],
      "metadata": {
        "id": "Hl1SLTalasg9"
      },
      "execution_count": 8,
      "outputs": []
    },
    {
      "cell_type": "code",
      "source": [
        "\n",
        "\n"
      ],
      "metadata": {
        "id": "zIINNfOQaVLF"
      },
      "execution_count": 8,
      "outputs": []
    },
    {
      "cell_type": "code",
      "source": [
        "\n",
        "\n"
      ],
      "metadata": {
        "id": "elMbZGrRj86m"
      },
      "execution_count": 8,
      "outputs": []
    },
    {
      "cell_type": "code",
      "source": [],
      "metadata": {
        "id": "OBrpOJhhawDy"
      },
      "execution_count": 8,
      "outputs": []
    },
    {
      "cell_type": "code",
      "source": [],
      "metadata": {
        "id": "ZMsUEPSPlOlu"
      },
      "execution_count": 8,
      "outputs": []
    },
    {
      "cell_type": "code",
      "source": [
        "# Import necessary libraries\n",
        "import tensorflow as tf\n",
        "from tensorflow.keras import layers\n",
        "from sklearn.preprocessing import MinMaxScaler\n",
        "import numpy as np\n",
        "import pandas as pd\n",
        "import matplotlib.pyplot as plt\n",
        "\n",
        "# Step 1: Prepare Synthetic Stock Price Data\n",
        "data = {\n",
        "    'Date': pd.date_range(start='2023-01-01', periods=30, freq='D'),\n",
        "    'Close': [\n",
        "        150.25, 152.10, 151.30, 153.00, 155.50, 157.20, 156.00, 158.75, 160.00, 159.50,\n",
        "        161.20, 162.30, 160.80, 161.00, 162.10, 163.00, 165.25, 164.50, 166.10, 167.30,\n",
        "        168.50, 167.80, 169.00, 170.25, 171.00, 172.20, 170.50, 171.75, 172.10, 173.50\n",
        "    ]\n",
        "}\n",
        "df = pd.DataFrame(data)\n",
        "\n",
        "# Normalize the data\n",
        "scaler = MinMaxScaler()\n",
        "time_series = df[['Close']].values\n",
        "time_series_scaled = scaler.fit_transform(time_series)\n",
        "\n",
        "# Plot normalized data\n",
        "plt.plot(time_series_scaled)\n",
        "plt.title(\"Normalized Stock Prices\")\n",
        "plt.xlabel(\"Days\")\n",
        "plt.ylabel(\"Normalized Price\")\n",
        "plt.show()\n",
        "\n",
        "# Step 2: Create Sequences\n",
        "def create_sequences(data, seq_length=10):\n",
        "    sequences = []\n",
        "    for i in range(len(data) - seq_length):\n",
        "        sequences.append(data[i:i + seq_length])\n",
        "    return np.array(sequences)\n",
        "\n",
        "seq_length = 10\n",
        "sequences = create_sequences(time_series_scaled, seq_length)\n",
        "print(f\"Shape of sequences: {sequences.shape}\")  # Expected: (20, 10, 1)\n",
        "\n",
        "# Step 3: Define Generator\n",
        "def build_generator(input_shape):\n",
        "    model = tf.keras.Sequential([\n",
        "        layers.Input(shape=input_shape),\n",
        "        layers.LSTM(128, return_sequences=True),  # Captures time patterns\n",
        "        layers.Dense(input_shape[1])  # Output the same shape as input\n",
        "    ])\n",
        "    return model\n",
        "\n",
        "# Step 4: Define Discriminator\n",
        "def build_discriminator(input_shape):\n",
        "    model = tf.keras.Sequential([\n",
        "        layers.Input(shape=input_shape),\n",
        "        layers.LSTM(128, return_sequences=False),  # Single output for classification\n",
        "        layers.Dense(1, activation='sigmoid')  # Binary output: Real (1) or Fake (0)\n",
        "    ])\n",
        "    return model\n",
        "\n",
        "# Initialize models\n",
        "generator = build_generator((seq_length, 1))\n",
        "discriminator = build_discriminator((seq_length, 1))\n",
        "\n",
        "# Define optimizers and loss function\n",
        "generator_optimizer = tf.keras.optimizers.Adam(0.001)\n",
        "discriminator_optimizer = tf.keras.optimizers.Adam(0.001)\n",
        "bce_loss = tf.keras.losses.BinaryCrossentropy()\n",
        "\n",
        "# Step 5: Training Loop\n",
        "epochs = 100\n",
        "batch_size = 16\n",
        "\n",
        "for epoch in range(epochs):\n",
        "    total_disc_loss = 0\n",
        "    total_gen_loss = 0\n",
        "\n",
        "    # Ensure batch size doesn't exceed data size\n",
        "    num_batches = max(1, len(sequences) // batch_size)\n",
        "\n",
        "    for _ in range(num_batches):\n",
        "        # Sample real sequences\n",
        "        idx = np.random.randint(0, sequences.shape[0], min(batch_size, len(sequences)))\n",
        "        real_sequences = sequences[idx]\n",
        "\n",
        "        # Generate fake sequences\n",
        "        noise = tf.random.normal(shape=(len(real_sequences), seq_length, 1))\n",
        "        synthetic_sequences = generator(noise)\n",
        "\n",
        "        # Train Discriminator\n",
        "        with tf.GradientTape() as disc_tape:\n",
        "            real_preds = discriminator(real_sequences)\n",
        "            fake_preds = discriminator(synthetic_sequences)\n",
        "\n",
        "            disc_loss_real = bce_loss(tf.ones_like(real_preds), real_preds)\n",
        "            disc_loss_fake = bce_loss(tf.zeros_like(fake_preds), fake_preds)\n",
        "            disc_loss = disc_loss_real + disc_loss_fake\n",
        "\n",
        "        disc_grads = disc_tape.gradient(disc_loss, discriminator.trainable_variables)\n",
        "        discriminator_optimizer.apply_gradients(zip(disc_grads, discriminator.trainable_variables))\n",
        "\n",
        "        # Train Generator\n",
        "        with tf.GradientTape() as gen_tape:\n",
        "            synthetic_sequences = generator(noise)\n",
        "            fake_preds = discriminator(synthetic_sequences)\n",
        "            gen_loss = bce_loss(tf.ones_like(fake_preds), fake_preds)\n",
        "\n",
        "        gen_grads = gen_tape.gradient(gen_loss, generator.trainable_variables)\n",
        "        generator_optimizer.apply_gradients(zip(gen_grads, generator.trainable_variables))\n",
        "\n",
        "        # Accumulate losses\n",
        "        total_disc_loss += disc_loss.numpy()\n",
        "        total_gen_loss += gen_loss.numpy()\n",
        "\n",
        "    # Calculate average losses\n",
        "    avg_disc_loss = total_disc_loss / num_batches\n",
        "    avg_gen_loss = total_gen_loss / num_batches\n",
        "\n",
        "    # Print losses for each epoch\n",
        "    print(f\"Epoch {epoch + 1}/{epochs} | Discriminator Loss: {avg_disc_loss:.4f} | Generator Loss: {avg_gen_loss:.4f}\")\n",
        "\n",
        "# Step 6: Generate Synthetic Data\n",
        "noise = tf.random.normal(shape=(1, seq_length, 1))\n",
        "generated_sequence = generator(noise).numpy()\n",
        "\n",
        "# Rescale generated sequence back to original scale\n",
        "generated_sequence_rescaled = scaler.inverse_transform(generated_sequence[0])\n",
        "plt.plot(generated_sequence_rescaled)\n",
        "plt.title(\"Generated Synthetic Sequence\")\n",
        "plt.xlabel(\"Days\")\n",
        "plt.ylabel(\"Price\")\n",
        "plt.show()\n",
        "\n"
      ],
      "metadata": {
        "colab": {
          "base_uri": "https://localhost:8080/",
          "height": 1000
        },
        "id": "vWMqu4hUa9Eb",
        "outputId": "debcb6f4-55b6-4234-9875-b08212932936"
      },
      "execution_count": 9,
      "outputs": [
        {
          "output_type": "display_data",
          "data": {
            "text/plain": [
              "<Figure size 640x480 with 1 Axes>"
            ],
            "image/png": "[encoded data removed]"
          },
          "metadata": {}
        },
        {
          "output_type": "stream",
          "name": "stdout",
          "text": [
            "Shape of sequences: (20, 10, 1)\n",
            "Epoch 1/100 | Discriminator Loss: 1.3902 | Generator Loss: 0.6920\n",
            "Epoch 2/100 | Discriminator Loss: 1.3596 | Generator Loss: 0.6920\n",
            "Epoch 3/100 | Discriminator Loss: 1.3348 | Generator Loss: 0.6896\n",
            "Epoch 4/100 | Discriminator Loss: 1.3144 | Generator Loss: 0.6929\n",
            "Epoch 5/100 | Discriminator Loss: 1.2859 | Generator Loss: 0.6981\n",
            "Epoch 6/100 | Discriminator Loss: 1.2746 | Generator Loss: 0.7031\n",
            "Epoch 7/100 | Discriminator Loss: 1.2564 | Generator Loss: 0.6851\n",
            "Epoch 8/100 | Discriminator Loss: 1.2343 | Generator Loss: 0.6872\n",
            "Epoch 9/100 | Discriminator Loss: 1.1815 | Generator Loss: 0.7066\n",
            "Epoch 10/100 | Discriminator Loss: 1.1783 | Generator Loss: 0.6704\n",
            "Epoch 11/100 | Discriminator Loss: 1.1668 | Generator Loss: 0.6676\n",
            "Epoch 12/100 | Discriminator Loss: 1.1949 | Generator Loss: 0.6477\n",
            "Epoch 13/100 | Discriminator Loss: 1.1745 | Generator Loss: 0.6211\n",
            "Epoch 14/100 | Discriminator Loss: 1.2020 | Generator Loss: 0.5836\n",
            "Epoch 15/100 | Discriminator Loss: 1.1314 | Generator Loss: 0.5648\n",
            "Epoch 16/100 | Discriminator Loss: 1.2874 | Generator Loss: 0.5123\n",
            "Epoch 17/100 | Discriminator Loss: 1.3170 | Generator Loss: 0.4487\n",
            "Epoch 18/100 | Discriminator Loss: 1.3323 | Generator Loss: 0.4209\n",
            "Epoch 19/100 | Discriminator Loss: 1.7458 | Generator Loss: 0.3365\n",
            "Epoch 20/100 | Discriminator Loss: 1.7446 | Generator Loss: 0.3048\n",
            "Epoch 21/100 | Discriminator Loss: 2.0447 | Generator Loss: 0.2708\n",
            "Epoch 22/100 | Discriminator Loss: 2.3109 | Generator Loss: 0.2175\n",
            "Epoch 23/100 | Discriminator Loss: 2.4423 | Generator Loss: 0.2024\n",
            "Epoch 24/100 | Discriminator Loss: 2.7875 | Generator Loss: 0.1703\n",
            "Epoch 25/100 | Discriminator Loss: 3.0060 | Generator Loss: 0.1459\n",
            "Epoch 26/100 | Discriminator Loss: 3.0108 | Generator Loss: 0.1573\n",
            "Epoch 27/100 | Discriminator Loss: 2.8841 | Generator Loss: 0.1842\n",
            "Epoch 28/100 | Discriminator Loss: 2.8240 | Generator Loss: 0.2382\n",
            "Epoch 29/100 | Discriminator Loss: 2.4905 | Generator Loss: 0.3296\n",
            "Epoch 30/100 | Discriminator Loss: 2.2494 | Generator Loss: 0.4647\n",
            "Epoch 31/100 | Discriminator Loss: 1.9324 | Generator Loss: 0.6668\n",
            "Epoch 32/100 | Discriminator Loss: 1.6811 | Generator Loss: 0.9234\n",
            "Epoch 33/100 | Discriminator Loss: 1.4880 | Generator Loss: 1.2241\n",
            "Epoch 34/100 | Discriminator Loss: 1.3260 | Generator Loss: 1.5380\n",
            "Epoch 35/100 | Discriminator Loss: 1.2184 | Generator Loss: 1.8442\n",
            "Epoch 36/100 | Discriminator Loss: 1.1390 | Generator Loss: 2.1437\n",
            "Epoch 37/100 | Discriminator Loss: 1.0808 | Generator Loss: 2.4089\n",
            "Epoch 38/100 | Discriminator Loss: 1.0347 | Generator Loss: 2.6470\n",
            "Epoch 39/100 | Discriminator Loss: 1.0033 | Generator Loss: 2.8385\n",
            "Epoch 40/100 | Discriminator Loss: 0.9673 | Generator Loss: 2.9889\n",
            "Epoch 41/100 | Discriminator Loss: 0.9473 | Generator Loss: 3.0938\n",
            "Epoch 42/100 | Discriminator Loss: 0.9078 | Generator Loss: 3.1944\n",
            "Epoch 43/100 | Discriminator Loss: 0.9066 | Generator Loss: 3.2098\n",
            "Epoch 44/100 | Discriminator Loss: 0.8677 | Generator Loss: 3.2307\n",
            "Epoch 45/100 | Discriminator Loss: 0.8651 | Generator Loss: 3.1383\n",
            "Epoch 46/100 | Discriminator Loss: 0.8419 | Generator Loss: 3.0094\n",
            "Epoch 47/100 | Discriminator Loss: 0.8441 | Generator Loss: 2.8826\n",
            "Epoch 48/100 | Discriminator Loss: 0.8482 | Generator Loss: 2.6503\n",
            "Epoch 49/100 | Discriminator Loss: 0.8529 | Generator Loss: 2.3819\n",
            "Epoch 50/100 | Discriminator Loss: 0.8764 | Generator Loss: 2.1208\n",
            "Epoch 51/100 | Discriminator Loss: 0.9145 | Generator Loss: 1.8092\n",
            "Epoch 52/100 | Discriminator Loss: 0.9270 | Generator Loss: 1.6942\n",
            "Epoch 53/100 | Discriminator Loss: 0.9842 | Generator Loss: 1.4319\n",
            "Epoch 54/100 | Discriminator Loss: 1.1045 | Generator Loss: 1.1089\n",
            "Epoch 55/100 | Discriminator Loss: 1.1630 | Generator Loss: 0.9894\n",
            "Epoch 56/100 | Discriminator Loss: 1.1811 | Generator Loss: 0.9404\n",
            "Epoch 57/100 | Discriminator Loss: 1.2328 | Generator Loss: 0.8190\n",
            "Epoch 58/100 | Discriminator Loss: 1.2894 | Generator Loss: 0.7527\n",
            "Epoch 59/100 | Discriminator Loss: 1.3157 | Generator Loss: 0.7027\n",
            "Epoch 60/100 | Discriminator Loss: 1.3250 | Generator Loss: 0.6960\n",
            "Epoch 61/100 | Discriminator Loss: 1.3491 | Generator Loss: 0.6566\n",
            "Epoch 62/100 | Discriminator Loss: 1.3911 | Generator Loss: 0.6238\n",
            "Epoch 63/100 | Discriminator Loss: 1.4141 | Generator Loss: 0.5994\n",
            "Epoch 64/100 | Discriminator Loss: 1.4138 | Generator Loss: 0.5927\n",
            "Epoch 65/100 | Discriminator Loss: 1.4610 | Generator Loss: 0.5525\n",
            "Epoch 66/100 | Discriminator Loss: 1.4299 | Generator Loss: 0.5786\n",
            "Epoch 67/100 | Discriminator Loss: 1.4339 | Generator Loss: 0.5662\n",
            "Epoch 68/100 | Discriminator Loss: 1.4591 | Generator Loss: 0.5505\n",
            "Epoch 69/100 | Discriminator Loss: 1.4594 | Generator Loss: 0.5443\n",
            "Epoch 70/100 | Discriminator Loss: 1.4202 | Generator Loss: 0.5734\n",
            "Epoch 71/100 | Discriminator Loss: 1.4265 | Generator Loss: 0.5715\n",
            "Epoch 72/100 | Discriminator Loss: 1.4275 | Generator Loss: 0.5685\n",
            "Epoch 73/100 | Discriminator Loss: 1.4135 | Generator Loss: 0.5821\n",
            "Epoch 74/100 | Discriminator Loss: 1.4151 | Generator Loss: 0.5812\n",
            "Epoch 75/100 | Discriminator Loss: 1.3943 | Generator Loss: 0.5935\n",
            "Epoch 76/100 | Discriminator Loss: 1.3963 | Generator Loss: 0.5967\n",
            "Epoch 77/100 | Discriminator Loss: 1.3801 | Generator Loss: 0.6062\n",
            "Epoch 78/100 | Discriminator Loss: 1.3720 | Generator Loss: 0.6118\n",
            "Epoch 79/100 | Discriminator Loss: 1.3767 | Generator Loss: 0.6148\n",
            "Epoch 80/100 | Discriminator Loss: 1.3275 | Generator Loss: 0.6357\n",
            "Epoch 81/100 | Discriminator Loss: 1.3334 | Generator Loss: 0.6446\n",
            "Epoch 82/100 | Discriminator Loss: 1.3334 | Generator Loss: 0.6534\n",
            "Epoch 83/100 | Discriminator Loss: 1.3072 | Generator Loss: 0.6375\n",
            "Epoch 84/100 | Discriminator Loss: 1.2891 | Generator Loss: 0.6607\n",
            "Epoch 85/100 | Discriminator Loss: 1.2883 | Generator Loss: 0.6739\n",
            "Epoch 86/100 | Discriminator Loss: 1.2595 | Generator Loss: 0.6843\n",
            "Epoch 87/100 | Discriminator Loss: 1.2630 | Generator Loss: 0.6988\n",
            "Epoch 88/100 | Discriminator Loss: 1.2336 | Generator Loss: 0.6987\n",
            "Epoch 89/100 | Discriminator Loss: 1.1865 | Generator Loss: 0.7598\n",
            "Epoch 90/100 | Discriminator Loss: 1.1679 | Generator Loss: 0.7570\n",
            "Epoch 91/100 | Discriminator Loss: 1.1366 | Generator Loss: 0.7924\n",
            "Epoch 92/100 | Discriminator Loss: 1.1790 | Generator Loss: 0.7739\n",
            "Epoch 93/100 | Discriminator Loss: 1.0784 | Generator Loss: 0.8154\n",
            "Epoch 94/100 | Discriminator Loss: 1.1238 | Generator Loss: 0.8290\n",
            "Epoch 95/100 | Discriminator Loss: 1.0024 | Generator Loss: 0.8783\n",
            "Epoch 96/100 | Discriminator Loss: 1.1036 | Generator Loss: 0.8851\n",
            "Epoch 97/100 | Discriminator Loss: 0.9765 | Generator Loss: 0.9049\n",
            "Epoch 98/100 | Discriminator Loss: 0.9119 | Generator Loss: 0.9026\n",
            "Epoch 99/100 | Discriminator Loss: 0.8873 | Generator Loss: 0.9818\n",
            "Epoch 100/100 | Discriminator Loss: 0.8827 | Generator Loss: 0.8457\n"
          ]
        },
        {
          "output_type": "display_data",
          "data": {
            "text/plain": [
              "<Figure size 640x480 with 1 Axes>"
            ],
            "image/png": "[encoded data removed]"
          },
          "metadata": {}
        }
      ]
    },
    {
      "cell_type": "code",
      "source": [],
      "metadata": {
        "id": "inMNdnYdokYh"
      },
      "execution_count": 9,
      "outputs": []
    },
    {
      "cell_type": "code",
      "source": [],
      "metadata": {
        "id": "GqiOwafda6mX"
      },
      "execution_count": 9,
      "outputs": []
    },
    {
      "cell_type": "code",
      "source": [],
      "metadata": {
        "id": "CZEzNqrErz2m"
      },
      "execution_count": 9,
      "outputs": []
    },
    {
      "cell_type": "code",
      "source": [
        "\n",
        "\n",
        "\n"
      ],
      "metadata": {
        "id": "6kCDbeXFn4eb"
      },
      "execution_count": 9,
      "outputs": []
    },
    {
      "cell_type": "code",
      "source": [],
      "metadata": {
        "id": "ZodgfJccn65C"
      },
      "execution_count": 9,
      "outputs": []
    },
    {
      "cell_type": "code",
      "source": [],
      "metadata": {
        "id": "wOFLFKIdn9lg"
      },
      "execution_count": 9,
      "outputs": []
    },
    {
      "cell_type": "code",
      "source": [
        "\n"
      ],
      "metadata": {
        "id": "M66YRWGCsmYt"
      },
      "execution_count": 9,
      "outputs": []
    },
    {
      "cell_type": "code",
      "source": [
        "\n"
      ],
      "metadata": {
        "id": "Ql4GKHf1sosJ"
      },
      "execution_count": 9,
      "outputs": []
    },
    {
      "cell_type": "code",
      "source": [],
      "metadata": {
        "id": "-DPqxyeLsunp"
      },
      "execution_count": 9,
      "outputs": []
    },
    {
      "cell_type": "code",
      "source": [],
      "metadata": {
        "id": "cQLtB7P0tD9W"
      },
      "execution_count": 9,
      "outputs": []
    },
    {
      "cell_type": "code",
      "source": [],
      "metadata": {
        "id": "4LAZrawws5ZA"
      },
      "execution_count": 9,
      "outputs": []
    },
    {
      "source": [],
      "cell_type": "code",
      "metadata": {
        "id": "CN1JicuQEqQI"
      },
      "execution_count": 9,
      "outputs": []
    },
    {
      "source": [],
      "cell_type": "code",
      "metadata": {
        "id": "HjxXvStiEuhp"
      },
      "execution_count": 9,
      "outputs": []
    },
    {
      "source": [
        "import tensorflow as tf\n",
        "\n",
        "# ... (rest of your code)\n",
        "\n",
        "@tf.function\n",
        "def train_step(images, labels):\n",
        "    with tf.GradientTape() as tape:\n",
        "        # Get the discriminator's predictions\n",
        "        predictions = discriminator(images, training=True)\n",
        "\n",
        "        # Reshape predictions to match labels shape (32,)\n",
        "        predictions = tf.reshape(predictions, (tf.shape(labels)[0],))\n",
        "\n",
        "        loss = tf.keras.losses.binary_crossentropy(labels, predictions)\n",
        "    gradients = tape.gradient(loss, discriminator.trainable_variables)\n",
        "    discriminator.optimizer.apply_gradients(zip(gradients, discriminator.trainable_variables))\n",
        "    return loss\n",
        "\n",
        "# ... (rest of your code)"
      ],
      "cell_type": "code",
      "metadata": {
        "id": "MCJA3Z7kE2G9"
      },
      "execution_count": 10,
      "outputs": []
    },
    {
      "cell_type": "code",
      "source": [],
      "metadata": {
        "id": "geFRJtyctOyi"
      },
      "execution_count": 10,
      "outputs": []
    },
    {
      "cell_type": "code",
      "source": [],
      "metadata": {
        "id": "azMTHRUoFgum"
      },
      "execution_count": 10,
      "outputs": []
    },
    {
      "cell_type": "code",
      "source": [
        "\n",
        "\n"
      ],
      "metadata": {
        "id": "ltWoi5rpxBy7"
      },
      "execution_count": 10,
      "outputs": []
    },
    {
      "source": [
        "\n"
      ],
      "cell_type": "code",
      "metadata": {
        "id": "aT6g49HAlTHM"
      },
      "execution_count": 10,
      "outputs": []
    },
    {
      "source": [],
      "cell_type": "code",
      "metadata": {
        "id": "s5FxDF76lZz4"
      },
      "execution_count": 10,
      "outputs": []
    },
    {
      "source": [],
      "cell_type": "code",
      "metadata": {
        "id": "LbCUrZS_lmFW"
      },
      "execution_count": 10,
      "outputs": []
    },
    {
      "cell_type": "code",
      "source": [],
      "metadata": {
        "id": "VFWcoS62lLOU"
      },
      "execution_count": 10,
      "outputs": []
    },
    {
      "source": [],
      "cell_type": "code",
      "metadata": {
        "id": "rMNoh9h4l2hC"
      },
      "execution_count": 10,
      "outputs": []
    },
    {
      "cell_type": "code",
      "source": [
        "\n"
      ],
      "metadata": {
        "id": "GyEGJgmtl3Sh"
      },
      "execution_count": 10,
      "outputs": []
    },
    {
      "cell_type": "code",
      "source": [
        "\n"
      ],
      "metadata": {
        "id": "Kd8sy5vAmTXJ"
      },
      "execution_count": 10,
      "outputs": []
    },
    {
      "source": [],
      "cell_type": "code",
      "metadata": {
        "id": "VCLr5ndJCSyc"
      },
      "execution_count": 10,
      "outputs": []
    },
    {
      "source": [
        "def create_sequences(data, seq_length=30):\n",
        "    sequences = []\n",
        "    for i in range(len(data) - seq_length + 1):\n",
        "        sequences.append(data[i:i + seq_length])\n",
        "    return np.array(sequences)\n",
        "\n",
        "# Assuming time_series_scaled is your preprocessed data\n",
        "sequences = create_sequences(time_series_scaled, seq_length=seq_length)  # seq_length should be defined as well"
      ],
      "cell_type": "code",
      "metadata": {
        "id": "CSyb6Q0ICVEW"
      },
      "execution_count": 11,
      "outputs": []
    },
    {
      "source": [],
      "cell_type": "code",
      "metadata": {
        "id": "un3oFIJ0CW_h"
      },
      "execution_count": 11,
      "outputs": []
    },
    {
      "source": [],
      "cell_type": "code",
      "metadata": {
        "id": "1dUDyuzkCg0l"
      },
      "execution_count": 11,
      "outputs": []
    },
    {
      "source": [],
      "cell_type": "code",
      "metadata": {
        "id": "QLpIF78KCneX"
      },
      "execution_count": 11,
      "outputs": []
    },
    {
      "source": [],
      "cell_type": "code",
      "metadata": {
        "id": "ComwGqiKCqrW"
      },
      "execution_count": 11,
      "outputs": []
    },
    {
      "cell_type": "code",
      "source": [],
      "metadata": {
        "id": "ThGPIf8nB8Xi"
      },
      "execution_count": 11,
      "outputs": []
    },
    {
      "cell_type": "code",
      "source": [
        "for epoch in range(epochs):\n",
        "    total_disc_loss = 0\n",
        "    total_gen_loss = 0\n",
        "\n",
        "    # Ensure at least one batch\n",
        "    num_batches = max(1, len(sequences) // batch_size)\n",
        "\n",
        "    for _ in range(num_batches):\n",
        "        # Sample real sequences\n",
        "        idx = np.random.randint(0, sequences.shape[0], min(batch_size, len(sequences)))\n",
        "        real_sequences = sequences[idx]\n",
        "\n",
        "        # Generate synthetic sequences\n",
        "        noise = tf.random.normal(shape=(len(real_sequences), seq_length, 1))  # Match real_sequences batch size\n",
        "        synthetic_sequences = generator(noise)\n",
        "\n",
        "        # Train Discriminator\n",
        "        with tf.GradientTape() as disc_tape:\n",
        "            real_preds = discriminator(real_sequences)\n",
        "            fake_preds = discriminator(synthetic_sequences)\n",
        "\n",
        "            disc_loss_real = bce_loss(tf.ones_like(real_preds), real_preds)\n",
        "            disc_loss_fake = bce_loss(tf.zeros_like(fake_preds), fake_preds)\n",
        "            disc_loss = disc_loss_real + disc_loss_fake\n",
        "\n",
        "        disc_grads = disc_tape.gradient(disc_loss, discriminator.trainable_variables)\n",
        "        discriminator_optimizer.apply_gradients(zip(disc_grads, discriminator.trainable_variables))\n",
        "\n",
        "        # Train Generator\n",
        "        with tf.GradientTape() as gen_tape:\n",
        "            synthetic_sequences = generator(noise)\n",
        "            fake_preds = discriminator(synthetic_sequences)\n",
        "            gen_loss = bce_loss(tf.ones_like(fake_preds), fake_preds)\n",
        "\n",
        "        gen_grads = gen_tape.gradient(gen_loss, generator.trainable_variables)\n",
        "        generator_optimizer.apply_gradients(zip(gen_grads, generator.trainable_variables))\n",
        "\n",
        "        # Accumulate losses\n",
        "        total_disc_loss += disc_loss.numpy()\n",
        "        total_gen_loss += gen_loss.numpy()\n",
        "\n",
        "    # Calculate average losses\n",
        "    avg_disc_loss = total_disc_loss / num_batches\n",
        "    avg_gen_loss = total_gen_loss / num_batches\n",
        "\n",
        "    # Print losses\n",
        "    print(f\"Epoch {epoch + 1}/{epochs} | Discriminator Loss: {avg_disc_loss:.4f} | Generator Loss: {avg_gen_loss:.4f}\")\n"
      ],
      "metadata": {
        "id": "eemuyywsFksn",
        "colab": {
          "base_uri": "https://localhost:8080/"
        },
        "outputId": "a05fbe14-f351-410f-909f-97faa40c3383"
      },
      "execution_count": 12,
      "outputs": [
        {
          "output_type": "stream",
          "name": "stdout",
          "text": [
            "Epoch 1/100 | Discriminator Loss: 0.8392 | Generator Loss: 1.0303\n",
            "Epoch 2/100 | Discriminator Loss: 1.1622 | Generator Loss: 0.9335\n",
            "Epoch 3/100 | Discriminator Loss: 0.8706 | Generator Loss: 1.0161\n",
            "Epoch 4/100 | Discriminator Loss: 0.8668 | Generator Loss: 1.0287\n",
            "Epoch 5/100 | Discriminator Loss: 0.7066 | Generator Loss: 1.1061\n",
            "Epoch 6/100 | Discriminator Loss: 0.9834 | Generator Loss: 1.3047\n",
            "Epoch 7/100 | Discriminator Loss: 0.6360 | Generator Loss: 1.4391\n",
            "Epoch 8/100 | Discriminator Loss: 0.7306 | Generator Loss: 1.5210\n",
            "Epoch 9/100 | Discriminator Loss: 0.9627 | Generator Loss: 1.4566\n",
            "Epoch 10/100 | Discriminator Loss: 0.8121 | Generator Loss: 1.6895\n",
            "Epoch 11/100 | Discriminator Loss: 1.0529 | Generator Loss: 1.6863\n",
            "Epoch 12/100 | Discriminator Loss: 1.4386 | Generator Loss: 1.3293\n",
            "Epoch 13/100 | Discriminator Loss: 1.0851 | Generator Loss: 1.4979\n",
            "Epoch 14/100 | Discriminator Loss: 1.4542 | Generator Loss: 1.2815\n",
            "Epoch 15/100 | Discriminator Loss: 0.9019 | Generator Loss: 1.3675\n",
            "Epoch 16/100 | Discriminator Loss: 1.4044 | Generator Loss: 1.2278\n",
            "Epoch 17/100 | Discriminator Loss: 1.2155 | Generator Loss: 1.5450\n",
            "Epoch 18/100 | Discriminator Loss: 1.3708 | Generator Loss: 1.5447\n",
            "Epoch 19/100 | Discriminator Loss: 1.8254 | Generator Loss: 1.2857\n",
            "Epoch 20/100 | Discriminator Loss: 1.7178 | Generator Loss: 1.1278\n",
            "Epoch 21/100 | Discriminator Loss: 1.7407 | Generator Loss: 1.2936\n",
            "Epoch 22/100 | Discriminator Loss: 2.1681 | Generator Loss: 0.9926\n",
            "Epoch 23/100 | Discriminator Loss: 1.9644 | Generator Loss: 1.0977\n",
            "Epoch 24/100 | Discriminator Loss: 2.1943 | Generator Loss: 0.9067\n",
            "Epoch 25/100 | Discriminator Loss: 2.2571 | Generator Loss: 1.3546\n",
            "Epoch 26/100 | Discriminator Loss: 2.6320 | Generator Loss: 1.3044\n",
            "Epoch 27/100 | Discriminator Loss: 1.9567 | Generator Loss: 1.6466\n",
            "Epoch 28/100 | Discriminator Loss: 2.8420 | Generator Loss: 1.1812\n",
            "Epoch 29/100 | Discriminator Loss: 1.9826 | Generator Loss: 1.5613\n",
            "Epoch 30/100 | Discriminator Loss: 2.2397 | Generator Loss: 1.3677\n",
            "Epoch 31/100 | Discriminator Loss: 1.9451 | Generator Loss: 1.6911\n",
            "Epoch 32/100 | Discriminator Loss: 1.8929 | Generator Loss: 1.4287\n",
            "Epoch 33/100 | Discriminator Loss: 1.7980 | Generator Loss: 1.3737\n",
            "Epoch 34/100 | Discriminator Loss: 1.5601 | Generator Loss: 1.4557\n",
            "Epoch 35/100 | Discriminator Loss: 1.6111 | Generator Loss: 1.2698\n",
            "Epoch 36/100 | Discriminator Loss: 1.4442 | Generator Loss: 1.2850\n",
            "Epoch 37/100 | Discriminator Loss: 1.3741 | Generator Loss: 1.1062\n",
            "Epoch 38/100 | Discriminator Loss: 1.3819 | Generator Loss: 0.9341\n",
            "Epoch 39/100 | Discriminator Loss: 1.3681 | Generator Loss: 0.8229\n",
            "Epoch 40/100 | Discriminator Loss: 1.3616 | Generator Loss: 0.7396\n",
            "Epoch 41/100 | Discriminator Loss: 1.2534 | Generator Loss: 0.7855\n",
            "Epoch 42/100 | Discriminator Loss: 1.2427 | Generator Loss: 0.7828\n",
            "Epoch 43/100 | Discriminator Loss: 1.2178 | Generator Loss: 0.7863\n",
            "Epoch 44/100 | Discriminator Loss: 1.1879 | Generator Loss: 0.8126\n",
            "Epoch 45/100 | Discriminator Loss: 1.2168 | Generator Loss: 0.7910\n",
            "Epoch 46/100 | Discriminator Loss: 1.0989 | Generator Loss: 0.9653\n",
            "Epoch 47/100 | Discriminator Loss: 1.1640 | Generator Loss: 0.8640\n",
            "Epoch 48/100 | Discriminator Loss: 1.1392 | Generator Loss: 0.9323\n",
            "Epoch 49/100 | Discriminator Loss: 1.1259 | Generator Loss: 1.0299\n",
            "Epoch 50/100 | Discriminator Loss: 1.0780 | Generator Loss: 1.1832\n",
            "Epoch 51/100 | Discriminator Loss: 1.0832 | Generator Loss: 1.1847\n",
            "Epoch 52/100 | Discriminator Loss: 1.0933 | Generator Loss: 1.1850\n",
            "Epoch 53/100 | Discriminator Loss: 1.0627 | Generator Loss: 1.2830\n",
            "Epoch 54/100 | Discriminator Loss: 1.0571 | Generator Loss: 1.2071\n",
            "Epoch 55/100 | Discriminator Loss: 1.0982 | Generator Loss: 1.1818\n",
            "Epoch 56/100 | Discriminator Loss: 1.1462 | Generator Loss: 1.0077\n",
            "Epoch 57/100 | Discriminator Loss: 1.1739 | Generator Loss: 0.9407\n",
            "Epoch 58/100 | Discriminator Loss: 1.3954 | Generator Loss: 0.6194\n",
            "Epoch 59/100 | Discriminator Loss: 1.2914 | Generator Loss: 0.7291\n",
            "Epoch 60/100 | Discriminator Loss: 1.3918 | Generator Loss: 0.6451\n",
            "Epoch 61/100 | Discriminator Loss: 1.3956 | Generator Loss: 0.5751\n",
            "Epoch 62/100 | Discriminator Loss: 1.7089 | Generator Loss: 0.4205\n",
            "Epoch 63/100 | Discriminator Loss: 1.6124 | Generator Loss: 0.4818\n",
            "Epoch 64/100 | Discriminator Loss: 1.6454 | Generator Loss: 0.4763\n",
            "Epoch 65/100 | Discriminator Loss: 1.4603 | Generator Loss: 0.6422\n",
            "Epoch 66/100 | Discriminator Loss: 1.6313 | Generator Loss: 0.4964\n",
            "Epoch 67/100 | Discriminator Loss: 1.6873 | Generator Loss: 0.4884\n",
            "Epoch 68/100 | Discriminator Loss: 1.5821 | Generator Loss: 0.4684\n",
            "Epoch 69/100 | Discriminator Loss: 1.6819 | Generator Loss: 0.4512\n",
            "Epoch 70/100 | Discriminator Loss: 1.6287 | Generator Loss: 0.4690\n",
            "Epoch 71/100 | Discriminator Loss: 1.6302 | Generator Loss: 0.4715\n",
            "Epoch 72/100 | Discriminator Loss: 1.5179 | Generator Loss: 0.5144\n",
            "Epoch 73/100 | Discriminator Loss: 1.5638 | Generator Loss: 0.4950\n",
            "Epoch 74/100 | Discriminator Loss: 1.5130 | Generator Loss: 0.5014\n",
            "Epoch 75/100 | Discriminator Loss: 1.5932 | Generator Loss: 0.4663\n",
            "Epoch 76/100 | Discriminator Loss: 1.4808 | Generator Loss: 0.5384\n",
            "Epoch 77/100 | Discriminator Loss: 1.4123 | Generator Loss: 0.5938\n",
            "Epoch 78/100 | Discriminator Loss: 1.3345 | Generator Loss: 0.6917\n",
            "Epoch 79/100 | Discriminator Loss: 1.3516 | Generator Loss: 0.7052\n",
            "Epoch 80/100 | Discriminator Loss: 1.3665 | Generator Loss: 0.7200\n",
            "Epoch 81/100 | Discriminator Loss: 1.3375 | Generator Loss: 0.7984\n",
            "Epoch 82/100 | Discriminator Loss: 1.3455 | Generator Loss: 0.8749\n",
            "Epoch 83/100 | Discriminator Loss: 1.3391 | Generator Loss: 0.9093\n",
            "Epoch 84/100 | Discriminator Loss: 1.3364 | Generator Loss: 1.0012\n",
            "Epoch 85/100 | Discriminator Loss: 1.3863 | Generator Loss: 0.9888\n",
            "Epoch 86/100 | Discriminator Loss: 1.3383 | Generator Loss: 1.0106\n",
            "Epoch 87/100 | Discriminator Loss: 1.3474 | Generator Loss: 1.0727\n",
            "Epoch 88/100 | Discriminator Loss: 1.3794 | Generator Loss: 0.9823\n",
            "Epoch 89/100 | Discriminator Loss: 1.3409 | Generator Loss: 1.0512\n",
            "Epoch 90/100 | Discriminator Loss: 1.3241 | Generator Loss: 1.0038\n",
            "Epoch 91/100 | Discriminator Loss: 1.3307 | Generator Loss: 0.9594\n",
            "Epoch 92/100 | Discriminator Loss: 1.3445 | Generator Loss: 0.8541\n",
            "Epoch 93/100 | Discriminator Loss: 1.3036 | Generator Loss: 0.8457\n",
            "Epoch 94/100 | Discriminator Loss: 1.2998 | Generator Loss: 0.7862\n",
            "Epoch 95/100 | Discriminator Loss: 1.2683 | Generator Loss: 0.7485\n",
            "Epoch 96/100 | Discriminator Loss: 1.3081 | Generator Loss: 0.6937\n",
            "Epoch 97/100 | Discriminator Loss: 1.2450 | Generator Loss: 0.7001\n",
            "Epoch 98/100 | Discriminator Loss: 1.2248 | Generator Loss: 0.6827\n",
            "Epoch 99/100 | Discriminator Loss: 1.2447 | Generator Loss: 0.6642\n",
            "Epoch 100/100 | Discriminator Loss: 1.2578 | Generator Loss: 0.7062\n"
          ]
        }
      ]
    },
    {
      "cell_type": "code",
      "source": [
        "num_batches = max(1, len(sequences) // batch_size)\n"
      ],
      "metadata": {
        "id": "oXVGLWJBPEDc"
      },
      "execution_count": 13,
      "outputs": []
    },
    {
      "cell_type": "code",
      "source": [
        "idx = np.random.randint(0, sequences.shape[0], min(batch_size, len(sequences)))\n"
      ],
      "metadata": {
        "id": "_S_O2Wj0PUCh"
      },
      "execution_count": 14,
      "outputs": []
    },
    {
      "cell_type": "code",
      "source": [
        "noise = tf.random.normal(shape=(len(real_sequences), seq_length, 1))\n"
      ],
      "metadata": {
        "id": "_u-sxVUAPWuX"
      },
      "execution_count": 15,
      "outputs": []
    },
    {
      "cell_type": "code",
      "source": [
        "real_labels = tf.ones((batch_size, 1)) * 0.9\n"
      ],
      "metadata": {
        "id": "DIDScK0UPZT4"
      },
      "execution_count": 16,
      "outputs": []
    },
    {
      "cell_type": "code",
      "source": [
        "discriminator_optimizer = tf.keras.optimizers.Adam(0.0005)\n"
      ],
      "metadata": {
        "id": "USVJGUslPwYa"
      },
      "execution_count": 17,
      "outputs": []
    },
    {
      "cell_type": "code",
      "source": [
        "noise = tf.random.normal(shape=(1, seq_length, 1))\n",
        "generated_sequence = generator(noise).numpy()\n",
        "plt.plot(scaler.inverse_transform(generated_sequence[0]))\n",
        "plt.title(\"Generated Sequence\")\n",
        "plt.show()\n"
      ],
      "metadata": {
        "id": "4cHwB8jFPzqp",
        "colab": {
          "base_uri": "https://localhost:8080/",
          "height": 452
        },
        "outputId": "a5dd2082-0598-4fc2-866d-b4fe978484d4"
      },
      "execution_count": 18,
      "outputs": [
        {
          "output_type": "display_data",
          "data": {
            "text/plain": [
              "<Figure size 640x480 with 1 Axes>"
            ],
            "image/png": "[encoded data removed]"
          },
          "metadata": {}
        }
      ]
    },
    {
      "cell_type": "code",
      "source": [
        "layers.Dropout(0.2),\n"
      ],
      "metadata": {
        "id": "RtuFnlBZP2E3",
        "colab": {
          "base_uri": "https://localhost:8080/"
        },
        "outputId": "a25dcd50-fabc-494c-909a-301d48ac1588"
      },
      "execution_count": 19,
      "outputs": [
        {
          "output_type": "execute_result",
          "data": {
            "text/plain": [
              "(<Dropout name=dropout, built=False>,)"
            ]
          },
          "metadata": {},
          "execution_count": 19
        }
      ]
    },
    {
      "cell_type": "code",
      "source": [
        "# Generate fake data\n",
        "noise = tf.random.normal(shape=(1, 10, 1))  # Random noise for the generator\n",
        "generated_sequence = generator(noise).numpy()  # Create fake sequence\n",
        "\n",
        "# Rescale the generated data back to the original scale\n",
        "generated_sequence_rescaled = scaler.inverse_transform(generated_sequence[0])\n",
        "\n",
        "# Plot the fake data\n",
        "plt.plot(generated_sequence_rescaled, label=\"Generated Data\", color=\"blue\")\n",
        "plt.title(\"Generated Fake Data\")\n",
        "plt.xlabel(\"Time Steps\")\n",
        "plt.ylabel(\"Value\")\n",
        "plt.legend()\n",
        "plt.show()\n",
        "\n"
      ],
      "metadata": {
        "id": "l6_rmL6uP5yh",
        "colab": {
          "base_uri": "https://localhost:8080/",
          "height": 472
        },
        "outputId": "811fe085-6334-4d84-e420-b11c9e657b1e"
      },
      "execution_count": 20,
      "outputs": [
        {
          "output_type": "display_data",
          "data": {
            "text/plain": [
              "<Figure size 640x480 with 1 Axes>"
            ],
            "image/png": "[encoded data removed]"
          },
          "metadata": {}
        }
      ]
    },
    {
      "cell_type": "code",
      "source": [
        "# Take one real sequence\n",
        "real_sequence = scaler.inverse_transform(sequences[0])  # First real sequence\n",
        "\n",
        "# Plot both real and generated data\n",
        "plt.figure(figsize=(8, 5))\n",
        "plt.plot(real_sequence, label=\"Real Data\", color=\"green\")\n",
        "plt.plot(generated_sequence_rescaled, label=\"Generated Data\", color=\"blue\")\n",
        "plt.title(\"Real vs. Generated Data\")\n",
        "plt.xlabel(\"Time Steps\")\n",
        "plt.ylabel(\"Value\")\n",
        "plt.legend()\n",
        "plt.show()\n"
      ],
      "metadata": {
        "colab": {
          "base_uri": "https://localhost:8080/",
          "height": 487
        },
        "id": "VVgGwbOjBP2T",
        "outputId": "579701ed-6a76-4ded-f5f6-471512e67a64"
      },
      "execution_count": 21,
      "outputs": [
        {
          "output_type": "display_data",
          "data": {
            "text/plain": [
              "<Figure size 800x500 with 1 Axes>"
            ],
            "image/png": "[encoded data removed]"
          },
          "metadata": {}
        }
      ]
    },
    {
      "cell_type": "code",
      "source": [
        "\n",
        "import numpy as np\n",
        "from sklearn.metrics import mean_absolute_error, mean_squared_error\n",
        "\n",
        "# Example Data (replace these with your real and generated data values)\n",
        "real_data = np.array([150, 152, 151, 149, 153, 160, 158, 155, 156, 157])\n",
        "generated_data = np.array([145, 147, 143, 140, 148, 165, 170, 160, 140, 120])\n",
        "\n",
        "# 1. Mean Absolute Error (MAE)\n",
        "mae = mean_absolute_error(real_data, generated_data)\n",
        "\n",
        "# 2. Mean Squared Error (MSE)\n",
        "mse = mean_squared_error(real_data, generated_data)\n",
        "\n",
        "# 3. Correlation Coefficient\n",
        "correlation = np.corrcoef(real_data, generated_data)[0, 1]\n",
        "\n",
        "# Print results\n",
        "print(\"Mean Absolute Error (MAE):\", mae)\n",
        "print(\"Mean Squared Error (MSE):\", mse)\n",
        "print(\"Correlation Coefficient:\", correlation)\n",
        "\n"
      ],
      "metadata": {
        "colab": {
          "base_uri": "https://localhost:8080/"
        },
        "id": "3_YfLZjnBVdr",
        "outputId": "188cc528-96ee-4e41-d1fd-0581e2c75f3b"
      },
      "execution_count": 22,
      "outputs": [
        {
          "output_type": "stream",
          "name": "stdout",
          "text": [
            "Mean Absolute Error (MAE): 10.7\n",
            "Mean Squared Error (MSE): 203.9\n",
            "Correlation Coefficient: 0.3606735205416851\n"
          ]
        }
      ]
    },
    {
      "cell_type": "code",
      "source": [],
      "metadata": {
        "id": "jlYXhtteHzVd"
      },
      "execution_count": null,
      "outputs": []
    }
  ]
}