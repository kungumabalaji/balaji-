{
  "nbformat": 4,
  "nbformat_minor": 0,
  "metadata": {
    "colab": {
      "provenance": [],
      "gpuType": "T4",
      "authorship_tag": "ABX9TyOQi9cIRomFcGlRNlUWCORr",
      "include_colab_link": true
    },
    "kernelspec": {
      "name": "python3",
      "display_name": "Python 3"
    },
    "language_info": {
      "name": "python"
    },
    "accelerator": "GPU"
  },
  "cells": [
    {
      "cell_type": "markdown",
      "metadata": {
        "id": "view-in-github",
        "colab_type": "text"
      },
      "source": [
        "<a href=\"https://colab.research.google.com/github/kungumabalaji/balaji-/blob/main/Copy_of_GEN_AI_FINACE_SELF_PROJECT_(TIMEGAN).ipynb\" target=\"_parent\"><img src=\"https://colab.research.google.com/assets/colab-badge.svg\" alt=\"Open In Colab\"/></a>"
      ]
    },
    {
      "cell_type": "code",
      "execution_count": null,
      "metadata": {
        "id": "CxX9vgxQVR8v"
      },
      "outputs": [],
      "source": []
    },
    {
      "cell_type": "code",
      "source": [
        "pip install tensorflow pandas numpy scikit-learn matplotlib\n"
      ],
      "metadata": {
        "colab": {
          "base_uri": "https://localhost:8080/"
        },
        "id": "g2r9R5LvWak9",
        "outputId": "bd1024c6-b06d-4c8d-8c45-140868d223a8"
      },
      "execution_count": 1,
      "outputs": [
        {
          "output_type": "stream",
          "name": "stdout",
          "text": [
            "Requirement already satisfied: tensorflow in /usr/local/lib/python3.10/dist-packages (2.17.1)\n",
            "Requirement already satisfied: pandas in /usr/local/lib/python3.10/dist-packages (2.2.2)\n",
            "Requirement already satisfied: numpy in /usr/local/lib/python3.10/dist-packages (1.26.4)\n",
            "Requirement already satisfied: scikit-learn in /usr/local/lib/python3.10/dist-packages (1.5.2)\n",
            "Requirement already satisfied: matplotlib in /usr/local/lib/python3.10/dist-packages (3.8.0)\n",
            "Requirement already satisfied: absl-py>=1.0.0 in /usr/local/lib/python3.10/dist-packages (from tensorflow) (1.4.0)\n",
            "Requirement already satisfied: astunparse>=1.6.0 in /usr/local/lib/python3.10/dist-packages (from tensorflow) (1.6.3)\n",
            "Requirement already satisfied: flatbuffers>=24.3.25 in /usr/local/lib/python3.10/dist-packages (from tensorflow) (24.3.25)\n",
            "Requirement already satisfied: gast!=0.5.0,!=0.5.1,!=0.5.2,>=0.2.1 in /usr/local/lib/python3.10/dist-packages (from tensorflow) (0.6.0)\n",
            "Requirement already satisfied: google-pasta>=0.1.1 in /usr/local/lib/python3.10/dist-packages (from tensorflow) (0.2.0)\n",
            "Requirement already satisfied: h5py>=3.10.0 in /usr/local/lib/python3.10/dist-packages (from tensorflow) (3.12.1)\n",
            "Requirement already satisfied: libclang>=13.0.0 in /usr/local/lib/python3.10/dist-packages (from tensorflow) (18.1.1)\n",
            "Requirement already satisfied: ml-dtypes<0.5.0,>=0.3.1 in /usr/local/lib/python3.10/dist-packages (from tensorflow) (0.4.1)\n",
            "Requirement already satisfied: opt-einsum>=2.3.2 in /usr/local/lib/python3.10/dist-packages (from tensorflow) (3.4.0)\n",
            "Requirement already satisfied: packaging in /usr/local/lib/python3.10/dist-packages (from tensorflow) (24.2)\n",
            "Requirement already satisfied: protobuf!=4.21.0,!=4.21.1,!=4.21.2,!=4.21.3,!=4.21.4,!=4.21.5,<5.0.0dev,>=3.20.3 in /usr/local/lib/python3.10/dist-packages (from tensorflow) (4.25.5)\n",
            "Requirement already satisfied: requests<3,>=2.21.0 in /usr/local/lib/python3.10/dist-packages (from tensorflow) (2.32.3)\n",
            "Requirement already satisfied: setuptools in /usr/local/lib/python3.10/dist-packages (from tensorflow) (75.1.0)\n",
            "Requirement already satisfied: six>=1.12.0 in /usr/local/lib/python3.10/dist-packages (from tensorflow) (1.16.0)\n",
            "Requirement already satisfied: termcolor>=1.1.0 in /usr/local/lib/python3.10/dist-packages (from tensorflow) (2.5.0)\n",
            "Requirement already satisfied: typing-extensions>=3.6.6 in /usr/local/lib/python3.10/dist-packages (from tensorflow) (4.12.2)\n",
            "Requirement already satisfied: wrapt>=1.11.0 in /usr/local/lib/python3.10/dist-packages (from tensorflow) (1.16.0)\n",
            "Requirement already satisfied: grpcio<2.0,>=1.24.3 in /usr/local/lib/python3.10/dist-packages (from tensorflow) (1.67.1)\n",
            "Requirement already satisfied: tensorboard<2.18,>=2.17 in /usr/local/lib/python3.10/dist-packages (from tensorflow) (2.17.1)\n",
            "Requirement already satisfied: keras>=3.2.0 in /usr/local/lib/python3.10/dist-packages (from tensorflow) (3.5.0)\n",
            "Requirement already satisfied: tensorflow-io-gcs-filesystem>=0.23.1 in /usr/local/lib/python3.10/dist-packages (from tensorflow) (0.37.1)\n",
            "Requirement already satisfied: python-dateutil>=2.8.2 in /usr/local/lib/python3.10/dist-packages (from pandas) (2.8.2)\n",
            "Requirement already satisfied: pytz>=2020.1 in /usr/local/lib/python3.10/dist-packages (from pandas) (2024.2)\n",
            "Requirement already satisfied: tzdata>=2022.7 in /usr/local/lib/python3.10/dist-packages (from pandas) (2024.2)\n",
            "Requirement already satisfied: scipy>=1.6.0 in /usr/local/lib/python3.10/dist-packages (from scikit-learn) (1.13.1)\n",
            "Requirement already satisfied: joblib>=1.2.0 in /usr/local/lib/python3.10/dist-packages (from scikit-learn) (1.4.2)\n",
            "Requirement already satisfied: threadpoolctl>=3.1.0 in /usr/local/lib/python3.10/dist-packages (from scikit-learn) (3.5.0)\n",
            "Requirement already satisfied: contourpy>=1.0.1 in /usr/local/lib/python3.10/dist-packages (from matplotlib) (1.3.1)\n",
            "Requirement already satisfied: cycler>=0.10 in /usr/local/lib/python3.10/dist-packages (from matplotlib) (0.12.1)\n",
            "Requirement already satisfied: fonttools>=4.22.0 in /usr/local/lib/python3.10/dist-packages (from matplotlib) (4.54.1)\n",
            "Requirement already satisfied: kiwisolver>=1.0.1 in /usr/local/lib/python3.10/dist-packages (from matplotlib) (1.4.7)\n",
            "Requirement already satisfied: pillow>=6.2.0 in /usr/local/lib/python3.10/dist-packages (from matplotlib) (11.0.0)\n",
            "Requirement already satisfied: pyparsing>=2.3.1 in /usr/local/lib/python3.10/dist-packages (from matplotlib) (3.2.0)\n",
            "Requirement already satisfied: wheel<1.0,>=0.23.0 in /usr/local/lib/python3.10/dist-packages (from astunparse>=1.6.0->tensorflow) (0.45.0)\n",
            "Requirement already satisfied: rich in /usr/local/lib/python3.10/dist-packages (from keras>=3.2.0->tensorflow) (13.9.4)\n",
            "Requirement already satisfied: namex in /usr/local/lib/python3.10/dist-packages (from keras>=3.2.0->tensorflow) (0.0.8)\n",
            "Requirement already satisfied: optree in /usr/local/lib/python3.10/dist-packages (from keras>=3.2.0->tensorflow) (0.13.1)\n",
            "Requirement already satisfied: charset-normalizer<4,>=2 in /usr/local/lib/python3.10/dist-packages (from requests<3,>=2.21.0->tensorflow) (3.4.0)\n",
            "Requirement already satisfied: idna<4,>=2.5 in /usr/local/lib/python3.10/dist-packages (from requests<3,>=2.21.0->tensorflow) (3.10)\n",
            "Requirement already satisfied: urllib3<3,>=1.21.1 in /usr/local/lib/python3.10/dist-packages (from requests<3,>=2.21.0->tensorflow) (2.2.3)\n",
            "Requirement already satisfied: certifi>=2017.4.17 in /usr/local/lib/python3.10/dist-packages (from requests<3,>=2.21.0->tensorflow) (2024.8.30)\n",
            "Requirement already satisfied: markdown>=2.6.8 in /usr/local/lib/python3.10/dist-packages (from tensorboard<2.18,>=2.17->tensorflow) (3.7)\n",
            "Requirement already satisfied: tensorboard-data-server<0.8.0,>=0.7.0 in /usr/local/lib/python3.10/dist-packages (from tensorboard<2.18,>=2.17->tensorflow) (0.7.2)\n",
            "Requirement already satisfied: werkzeug>=1.0.1 in /usr/local/lib/python3.10/dist-packages (from tensorboard<2.18,>=2.17->tensorflow) (3.1.3)\n",
            "Requirement already satisfied: MarkupSafe>=2.1.1 in /usr/local/lib/python3.10/dist-packages (from werkzeug>=1.0.1->tensorboard<2.18,>=2.17->tensorflow) (3.0.2)\n",
            "Requirement already satisfied: markdown-it-py>=2.2.0 in /usr/local/lib/python3.10/dist-packages (from rich->keras>=3.2.0->tensorflow) (3.0.0)\n",
            "Requirement already satisfied: pygments<3.0.0,>=2.13.0 in /usr/local/lib/python3.10/dist-packages (from rich->keras>=3.2.0->tensorflow) (2.18.0)\n",
            "Requirement already satisfied: mdurl~=0.1 in /usr/local/lib/python3.10/dist-packages (from markdown-it-py>=2.2.0->rich->keras>=3.2.0->tensorflow) (0.1.2)\n"
          ]
        }
      ]
    },
    {
      "cell_type": "code",
      "source": [
        "import numpy as np\n",
        "import pandas as pd\n",
        "import matplotlib as plt\n",
        "import  tensorflow as tf\n",
        "from tensorflow.keras import layers\n",
        "from  sklearn.preprocessing import MinMaxScaler\n",
        "\n",
        "import pandas as pd\n",
        "import numpy as np\n",
        "from sklearn.preprocessing import MinMaxScaler\n",
        "import matplotlib.pyplot as plt"
      ],
      "metadata": {
        "id": "bHQw6HEYWS7G"
      },
      "execution_count": 2,
      "outputs": []
    },
    {
      "cell_type": "code",
      "source": [
        "\n",
        "\n",
        "# Finance data for stock price  (30 closing prices)\n",
        "data = {\n",
        "    'Date': pd.date_range(start='2023-01-01', periods=30, freq='D'),  # 30 dates from Jan 1, 2023\n",
        "    'Close': [150.25, 152.10, 151.30, 153.00, 155.50, 157.20, 156.00,\n",
        "              158.75, 160.00, 159.50, 161.20, 162.30, 160.80, 161.00,\n",
        "              162.10, 163.00, 165.25, 164.50, 166.10, 167.30, 168.50,\n",
        "              167.80, 169.00, 170.25, 171.00, 172.20, 170.50, 171.75,\n",
        "              172.10, 173.50]  # Now 30 closing prices, removed the extra one\n",
        "}\n",
        "\n",
        "# Check the lengths of Date and Close again\n",
        "print(f\"Length of Date list: {len(data['Date'])}\")\n",
        "print(f\"Length of Close list: {len(data['Close'])}\")\n",
        "\n",
        "# Create DataFrame from data dictionary\n",
        "df = pd.DataFrame(data)\n",
        "\n",
        "# Show the first few rows of the data\n",
        "print(df.head())\n",
        "\n",
        "# We will use only the 'Close' column for training\n",
        "time_series = df[['Close']].values\n",
        "\n",
        "# Normalize the data (between 0 and 1)\n",
        "scaler = MinMaxScaler()\n",
        "time_series_scaled = scaler.fit_transform(time_series)\n",
        "\n",
        "# Plot the normalized data\n",
        "plt.plot(time_series_scaled)\n",
        "plt.title(\"Normalized Stock Prices\")\n",
        "plt.xlabel(\"Days\")\n",
        "plt.ylabel(\"Normalized Price\")\n",
        "plt.show()\n"
      ],
      "metadata": {
        "colab": {
          "base_uri": "https://localhost:8080/",
          "height": 611
        },
        "id": "kFY8alrYWZcM",
        "outputId": "84815d8f-f5ed-4a6c-dc25-4623d79ebb47"
      },
      "execution_count": 3,
      "outputs": [
        {
          "output_type": "stream",
          "name": "stdout",
          "text": [
            "Length of Date list: 30\n",
            "Length of Close list: 30\n",
            "        Date   Close\n",
            "0 2023-01-01  150.25\n",
            "1 2023-01-02  152.10\n",
            "2 2023-01-03  151.30\n",
            "3 2023-01-04  153.00\n",
            "4 2023-01-05  155.50\n"
          ]
        },
        {
          "output_type": "display_data",
          "data": {
            "text/plain": [
              "<Figure size 640x480 with 1 Axes>"
            ],
            "image/png": "[encoded data removed]"
          },
          "metadata": {}
        }
      ]
    },
    {
      "cell_type": "code",
      "source": [
        "# if we want to predict the tommarow stock price we need to do sequence like understand the pattern before and give the futire outcome\n",
        "# prepare the sequences for time series learning\n",
        "\n",
        "# Function to create sequences of data (sliding window)\n",
        "def create_sequences(data, seq_lef=30):  # def the function\n",
        "    sequences=[]   # craeteting an emplt list to store the result\n",
        "    for i in range(len(data)-seq_length): # it is loop for 5 times like like data is 35 total we need to do it for 30 because in financial market for a month its 30 days only  so its 5 times\n",
        "        sequences .append(data[i:i+seq_length])  # The line sequences.append(data[i:i+seq_length]) creates overlapping windows of time series data, each containing seq_length consecutive data points, to train the model on past patterns for future predictions.\n",
        "    return np .array (sequences)\n",
        "\n",
        "\n",
        "\n"
      ],
      "metadata": {
        "id": "JdU4BiB5YdQa"
      },
      "execution_count": 4,
      "outputs": []
    },
    {
      "cell_type": "code",
      "source": [
        "# Define the generator (generates fake sequences)  # gan has 2 models generator, discriminator\n",
        "def build_generator(input_shape): # defines the function to build gen model\n",
        "    model = tf.keras.Sequential([  #  its create a sequential model which allows us to add a layers\n",
        "        layers.Input(shape=input_shape), #  Input layer accepts sequences of shape (30, 1), which is the same as what the generator outputs.\n",
        "        layers.LSTM(128, return_sequences=True),\n",
        "        layers.Dense(input_shape[1])\n",
        "    ])\n",
        "    return model\n",
        "\n",
        "# Define the discriminator (discriminates real vs fake sequences)\n",
        "def build_discriminator(input_shape):\n",
        "    model = tf.keras.Sequential([\n",
        "        layers.Input(shape=input_shape),\n",
        "        layers.LSTM(128, return_sequences=True),\n",
        "        layers.Dense(1, activation='sigmoid')\n",
        "    ])\n",
        "    return model\n",
        "\n",
        "# Instantiate generator and discriminator\n",
        "generator = build_generator((30, 1))\n",
        "discriminator = build_discriminator((30, 1))\n",
        "\n"
      ],
      "metadata": {
        "id": "P85oSIPXZ2KD"
      },
      "execution_count": 5,
      "outputs": []
    },
    {
      "cell_type": "code",
      "source": [],
      "metadata": {
        "id": "20-YK9TAaeiu"
      },
      "execution_count": 6,
      "outputs": []
    },
    {
      "source": [],
      "cell_type": "code",
      "metadata": {
        "id": "yEqmq5oNDiw2"
      },
      "execution_count": 6,
      "outputs": []
    },
    {
      "source": [],
      "cell_type": "code",
      "metadata": {
        "id": "dvPOeyBJDkxJ"
      },
      "execution_count": null,
      "outputs": []
    },
    {
      "source": [
        "def create_sequences(data, seq_length=30):  # def the function\n",
        "    sequences=[]   # craeteting an emplt list to store the result\n",
        "    for i in range(len(data)-seq_length):\n",
        "        sequences .append(data[i:i+seq_length])\n",
        "    return np .array (sequences)"
      ],
      "cell_type": "code",
      "metadata": {
        "id": "lWBw2yjyDqHd"
      },
      "execution_count": 7,
      "outputs": []
    },
    {
      "source": [],
      "cell_type": "code",
      "metadata": {
        "id": "T7UQ4TS4Drls"
      },
      "execution_count": null,
      "outputs": []
    },
    {
      "source": [
        "sequences = create_sequences(time_series_scaled, seq_length=30)  # Change 'seq_lef' to 'seq_length'"
      ],
      "cell_type": "code",
      "metadata": {
        "id": "ARQ1vsvMDw3U"
      },
      "execution_count": 11,
      "outputs": []
    },
    {
      "cell_type": "code",
      "source": [
        "\n",
        "optimizer = tf.keras.optimizers.Adam(0.001)  # Set the optimizer"
      ],
      "metadata": {
        "id": "Hl1SLTalasg9"
      },
      "execution_count": 10,
      "outputs": []
    },
    {
      "cell_type": "code",
      "source": [
        "\n",
        "\n"
      ],
      "metadata": {
        "id": "zIINNfOQaVLF",
        "colab": {
          "base_uri": "https://localhost:8080/",
          "height": 106
        },
        "outputId": "95d02707-5da2-40d4-ee45-cecce94a0ef2"
      },
      "execution_count": 8,
      "outputs": [
        {
          "output_type": "error",
          "ename": "SyntaxError",
          "evalue": "invalid syntax (<ipython-input-8-bcc604efc3e4>, line 1)",
          "traceback": [
            "\u001b[0;36m  File \u001b[0;32m\"<ipython-input-8-bcc604efc3e4>\"\u001b[0;36m, line \u001b[0;32m1\u001b[0m\n\u001b[0;31m    ```python\u001b[0m\n\u001b[0m    ^\u001b[0m\n\u001b[0;31mSyntaxError\u001b[0m\u001b[0;31m:\u001b[0m invalid syntax\n"
          ]
        }
      ]
    },
    {
      "cell_type": "code",
      "source": [
        "\n",
        "\n"
      ],
      "metadata": {
        "id": "elMbZGrRj86m"
      },
      "execution_count": null,
      "outputs": []
    },
    {
      "cell_type": "code",
      "source": [],
      "metadata": {
        "id": "OBrpOJhhawDy"
      },
      "execution_count": null,
      "outputs": []
    },
    {
      "cell_type": "code",
      "source": [],
      "metadata": {
        "id": "ZMsUEPSPlOlu"
      },
      "execution_count": 9,
      "outputs": []
    },
    {
      "cell_type": "code",
      "source": [
        "# Import necessary libraries\n",
        "import tensorflow as tf\n",
        "from tensorflow.keras import layers\n",
        "from sklearn.preprocessing import MinMaxScaler\n",
        "import numpy as np\n",
        "import pandas as pd\n",
        "import matplotlib.pyplot as plt\n",
        "\n",
        "# Step 1: Prepare Synthetic Stock Price Data\n",
        "data = {\n",
        "    'Date': pd.date_range(start='2023-01-01', periods=30, freq='D'),\n",
        "    'Close': [\n",
        "        150.25, 152.10, 151.30, 153.00, 155.50, 157.20, 156.00, 158.75, 160.00, 159.50,\n",
        "        161.20, 162.30, 160.80, 161.00, 162.10, 163.00, 165.25, 164.50, 166.10, 167.30,\n",
        "        168.50, 167.80, 169.00, 170.25, 171.00, 172.20, 170.50, 171.75, 172.10, 173.50\n",
        "    ]\n",
        "}\n",
        "df = pd.DataFrame(data)\n",
        "\n",
        "# Normalize the data\n",
        "scaler = MinMaxScaler()\n",
        "time_series = df[['Close']].values\n",
        "time_series_scaled = scaler.fit_transform(time_series)\n",
        "\n",
        "# Plot normalized data\n",
        "plt.plot(time_series_scaled)\n",
        "plt.title(\"Normalized Stock Prices\")\n",
        "plt.xlabel(\"Days\")\n",
        "plt.ylabel(\"Normalized Price\")\n",
        "plt.show()\n",
        "\n",
        "# Step 2: Create Sequences\n",
        "def create_sequences(data, seq_length=10):\n",
        "    sequences = []\n",
        "    for i in range(len(data) - seq_length):\n",
        "        sequences.append(data[i:i + seq_length])\n",
        "    return np.array(sequences)\n",
        "\n",
        "seq_length = 10\n",
        "sequences = create_sequences(time_series_scaled, seq_length)\n",
        "print(f\"Shape of sequences: {sequences.shape}\")  # Expected: (20, 10, 1)\n",
        "\n",
        "# Step 3: Define Generator\n",
        "def build_generator(input_shape):\n",
        "    model = tf.keras.Sequential([\n",
        "        layers.Input(shape=input_shape),\n",
        "        layers.LSTM(128, return_sequences=True),  # Captures time patterns\n",
        "        layers.Dense(input_shape[1])  # Output the same shape as input\n",
        "    ])\n",
        "    return model\n",
        "\n",
        "# Step 4: Define Discriminator\n",
        "def build_discriminator(input_shape):\n",
        "    model = tf.keras.Sequential([\n",
        "        layers.Input(shape=input_shape),\n",
        "        layers.LSTM(128, return_sequences=False),  # Single output for classification\n",
        "        layers.Dense(1, activation='sigmoid')  # Binary output: Real (1) or Fake (0)\n",
        "    ])\n",
        "    return model\n",
        "\n",
        "# Initialize models\n",
        "generator = build_generator((seq_length, 1))\n",
        "discriminator = build_discriminator((seq_length, 1))\n",
        "\n",
        "# Define optimizers and loss function\n",
        "generator_optimizer = tf.keras.optimizers.Adam(0.001)\n",
        "discriminator_optimizer = tf.keras.optimizers.Adam(0.001)\n",
        "bce_loss = tf.keras.losses.BinaryCrossentropy()\n",
        "\n",
        "# Step 5: Training Loop\n",
        "epochs = 100\n",
        "batch_size = 16\n",
        "\n",
        "for epoch in range(epochs):\n",
        "    total_disc_loss = 0\n",
        "    total_gen_loss = 0\n",
        "\n",
        "    # Ensure batch size doesn't exceed data size\n",
        "    num_batches = max(1, len(sequences) // batch_size)\n",
        "\n",
        "    for _ in range(num_batches):\n",
        "        # Sample real sequences\n",
        "        idx = np.random.randint(0, sequences.shape[0], min(batch_size, len(sequences)))\n",
        "        real_sequences = sequences[idx]\n",
        "\n",
        "        # Generate fake sequences\n",
        "        noise = tf.random.normal(shape=(len(real_sequences), seq_length, 1))\n",
        "        synthetic_sequences = generator(noise)\n",
        "\n",
        "        # Train Discriminator\n",
        "        with tf.GradientTape() as disc_tape:\n",
        "            real_preds = discriminator(real_sequences)\n",
        "            fake_preds = discriminator(synthetic_sequences)\n",
        "\n",
        "            disc_loss_real = bce_loss(tf.ones_like(real_preds), real_preds)\n",
        "            disc_loss_fake = bce_loss(tf.zeros_like(fake_preds), fake_preds)\n",
        "            disc_loss = disc_loss_real + disc_loss_fake\n",
        "\n",
        "        disc_grads = disc_tape.gradient(disc_loss, discriminator.trainable_variables)\n",
        "        discriminator_optimizer.apply_gradients(zip(disc_grads, discriminator.trainable_variables))\n",
        "\n",
        "        # Train Generator\n",
        "        with tf.GradientTape() as gen_tape:\n",
        "            synthetic_sequences = generator(noise)\n",
        "            fake_preds = discriminator(synthetic_sequences)\n",
        "            gen_loss = bce_loss(tf.ones_like(fake_preds), fake_preds)\n",
        "\n",
        "        gen_grads = gen_tape.gradient(gen_loss, generator.trainable_variables)\n",
        "        generator_optimizer.apply_gradients(zip(gen_grads, generator.trainable_variables))\n",
        "\n",
        "        # Accumulate losses\n",
        "        total_disc_loss += disc_loss.numpy()\n",
        "        total_gen_loss += gen_loss.numpy()\n",
        "\n",
        "    # Calculate average losses\n",
        "    avg_disc_loss = total_disc_loss / num_batches\n",
        "    avg_gen_loss = total_gen_loss / num_batches\n",
        "\n",
        "    # Print losses for each epoch\n",
        "    print(f\"Epoch {epoch + 1}/{epochs} | Discriminator Loss: {avg_disc_loss:.4f} | Generator Loss: {avg_gen_loss:.4f}\")\n",
        "\n",
        "# Step 6: Generate Synthetic Data\n",
        "noise = tf.random.normal(shape=(1, seq_length, 1))\n",
        "generated_sequence = generator(noise).numpy()\n",
        "\n",
        "# Rescale generated sequence back to original scale\n",
        "generated_sequence_rescaled = scaler.inverse_transform(generated_sequence[0])\n",
        "plt.plot(generated_sequence_rescaled)\n",
        "plt.title(\"Generated Synthetic Sequence\")\n",
        "plt.xlabel(\"Days\")\n",
        "plt.ylabel(\"Price\")\n",
        "plt.show()\n",
        "\n"
      ],
      "metadata": {
        "colab": {
          "base_uri": "https://localhost:8080/",
          "height": 1000
        },
        "id": "vWMqu4hUa9Eb",
        "outputId": "95c49128-429b-404a-f3d2-c5abbb4280ce"
      },
      "execution_count": 9,
      "outputs": [
        {
          "output_type": "display_data",
          "data": {
            "text/plain": [
              "<Figure size 640x480 with 1 Axes>"
            ],
            "image/png": "[encoded data removed]"
          },
          "metadata": {}
        },
        {
          "output_type": "stream",
          "name": "stdout",
          "text": [
            "Shape of sequences: (20, 10, 1)\n",
            "Epoch 1/100 | Discriminator Loss: 1.3642 | Generator Loss: 0.6966\n",
            "Epoch 2/100 | Discriminator Loss: 1.3392 | Generator Loss: 0.7003\n",
            "Epoch 3/100 | Discriminator Loss: 1.3159 | Generator Loss: 0.7034\n",
            "Epoch 4/100 | Discriminator Loss: 1.2963 | Generator Loss: 0.7057\n",
            "Epoch 5/100 | Discriminator Loss: 1.2728 | Generator Loss: 0.7078\n",
            "Epoch 6/100 | Discriminator Loss: 1.2642 | Generator Loss: 0.7082\n",
            "Epoch 7/100 | Discriminator Loss: 1.2406 | Generator Loss: 0.7078\n",
            "Epoch 8/100 | Discriminator Loss: 1.2019 | Generator Loss: 0.7036\n",
            "Epoch 9/100 | Discriminator Loss: 1.1931 | Generator Loss: 0.6963\n",
            "Epoch 10/100 | Discriminator Loss: 1.2245 | Generator Loss: 0.6907\n",
            "Epoch 11/100 | Discriminator Loss: 1.1816 | Generator Loss: 0.6760\n",
            "Epoch 12/100 | Discriminator Loss: 1.1734 | Generator Loss: 0.6641\n",
            "Epoch 13/100 | Discriminator Loss: 1.1607 | Generator Loss: 0.6366\n",
            "Epoch 14/100 | Discriminator Loss: 1.1360 | Generator Loss: 0.6161\n",
            "Epoch 15/100 | Discriminator Loss: 1.2324 | Generator Loss: 0.5675\n",
            "Epoch 16/100 | Discriminator Loss: 1.3123 | Generator Loss: 0.5105\n",
            "Epoch 17/100 | Discriminator Loss: 1.3680 | Generator Loss: 0.4706\n",
            "Epoch 18/100 | Discriminator Loss: 1.4389 | Generator Loss: 0.4031\n",
            "Epoch 19/100 | Discriminator Loss: 1.7457 | Generator Loss: 0.3093\n",
            "Epoch 20/100 | Discriminator Loss: 1.9400 | Generator Loss: 0.2987\n",
            "Epoch 21/100 | Discriminator Loss: 2.0917 | Generator Loss: 0.2436\n",
            "Epoch 22/100 | Discriminator Loss: 2.3878 | Generator Loss: 0.2087\n",
            "Epoch 23/100 | Discriminator Loss: 2.8613 | Generator Loss: 0.1507\n",
            "Epoch 24/100 | Discriminator Loss: 3.0496 | Generator Loss: 0.1260\n",
            "Epoch 25/100 | Discriminator Loss: 2.9946 | Generator Loss: 0.1351\n",
            "Epoch 26/100 | Discriminator Loss: 3.2859 | Generator Loss: 0.1295\n",
            "Epoch 27/100 | Discriminator Loss: 3.2442 | Generator Loss: 0.1495\n",
            "Epoch 28/100 | Discriminator Loss: 3.0110 | Generator Loss: 0.1897\n",
            "Epoch 29/100 | Discriminator Loss: 2.7793 | Generator Loss: 0.2534\n",
            "Epoch 30/100 | Discriminator Loss: 2.5285 | Generator Loss: 0.3587\n",
            "Epoch 31/100 | Discriminator Loss: 2.2674 | Generator Loss: 0.5066\n",
            "Epoch 32/100 | Discriminator Loss: 1.9652 | Generator Loss: 0.7066\n",
            "Epoch 33/100 | Discriminator Loss: 1.7382 | Generator Loss: 0.9500\n",
            "Epoch 34/100 | Discriminator Loss: 1.5365 | Generator Loss: 1.2249\n",
            "Epoch 35/100 | Discriminator Loss: 1.3782 | Generator Loss: 1.5128\n",
            "Epoch 36/100 | Discriminator Loss: 1.2675 | Generator Loss: 1.7976\n",
            "Epoch 37/100 | Discriminator Loss: 1.1723 | Generator Loss: 2.0719\n",
            "Epoch 38/100 | Discriminator Loss: 1.0976 | Generator Loss: 2.3337\n",
            "Epoch 39/100 | Discriminator Loss: 1.0505 | Generator Loss: 2.5608\n",
            "Epoch 40/100 | Discriminator Loss: 0.9997 | Generator Loss: 2.7723\n",
            "Epoch 41/100 | Discriminator Loss: 0.9584 | Generator Loss: 2.9617\n",
            "Epoch 42/100 | Discriminator Loss: 0.9324 | Generator Loss: 3.1232\n",
            "Epoch 43/100 | Discriminator Loss: 0.9030 | Generator Loss: 3.2469\n",
            "Epoch 44/100 | Discriminator Loss: 0.8908 | Generator Loss: 3.3482\n",
            "Epoch 45/100 | Discriminator Loss: 0.8452 | Generator Loss: 3.4201\n",
            "Epoch 46/100 | Discriminator Loss: 0.8367 | Generator Loss: 3.4539\n",
            "Epoch 47/100 | Discriminator Loss: 0.8096 | Generator Loss: 3.4354\n",
            "Epoch 48/100 | Discriminator Loss: 0.8007 | Generator Loss: 3.3978\n",
            "Epoch 49/100 | Discriminator Loss: 0.7856 | Generator Loss: 3.3229\n",
            "Epoch 50/100 | Discriminator Loss: 0.7730 | Generator Loss: 3.1497\n",
            "Epoch 51/100 | Discriminator Loss: 0.7674 | Generator Loss: 2.9568\n",
            "Epoch 52/100 | Discriminator Loss: 0.7773 | Generator Loss: 2.7238\n",
            "Epoch 53/100 | Discriminator Loss: 0.7835 | Generator Loss: 2.4344\n",
            "Epoch 54/100 | Discriminator Loss: 0.8282 | Generator Loss: 2.0106\n",
            "Epoch 55/100 | Discriminator Loss: 0.8532 | Generator Loss: 1.7762\n",
            "Epoch 56/100 | Discriminator Loss: 0.9239 | Generator Loss: 1.4830\n",
            "Epoch 57/100 | Discriminator Loss: 1.0069 | Generator Loss: 1.2047\n",
            "Epoch 58/100 | Discriminator Loss: 1.0668 | Generator Loss: 1.0596\n",
            "Epoch 59/100 | Discriminator Loss: 1.1782 | Generator Loss: 0.8722\n",
            "Epoch 60/100 | Discriminator Loss: 1.2171 | Generator Loss: 0.7907\n",
            "Epoch 61/100 | Discriminator Loss: 1.2844 | Generator Loss: 0.7100\n",
            "Epoch 62/100 | Discriminator Loss: 1.3242 | Generator Loss: 0.6576\n",
            "Epoch 63/100 | Discriminator Loss: 1.3407 | Generator Loss: 0.6362\n",
            "Epoch 64/100 | Discriminator Loss: 1.3698 | Generator Loss: 0.6124\n",
            "Epoch 65/100 | Discriminator Loss: 1.4109 | Generator Loss: 0.5761\n",
            "Epoch 66/100 | Discriminator Loss: 1.4105 | Generator Loss: 0.5694\n",
            "Epoch 67/100 | Discriminator Loss: 1.4258 | Generator Loss: 0.5560\n",
            "Epoch 68/100 | Discriminator Loss: 1.4237 | Generator Loss: 0.5556\n",
            "Epoch 69/100 | Discriminator Loss: 1.4166 | Generator Loss: 0.5611\n",
            "Epoch 70/100 | Discriminator Loss: 1.4388 | Generator Loss: 0.5468\n",
            "Epoch 71/100 | Discriminator Loss: 1.4286 | Generator Loss: 0.5511\n",
            "Epoch 72/100 | Discriminator Loss: 1.4228 | Generator Loss: 0.5563\n",
            "Epoch 73/100 | Discriminator Loss: 1.4189 | Generator Loss: 0.5589\n",
            "Epoch 74/100 | Discriminator Loss: 1.4034 | Generator Loss: 0.5668\n",
            "Epoch 75/100 | Discriminator Loss: 1.3949 | Generator Loss: 0.5699\n",
            "Epoch 76/100 | Discriminator Loss: 1.3826 | Generator Loss: 0.5777\n",
            "Epoch 77/100 | Discriminator Loss: 1.3755 | Generator Loss: 0.5845\n",
            "Epoch 78/100 | Discriminator Loss: 1.3761 | Generator Loss: 0.5874\n",
            "Epoch 79/100 | Discriminator Loss: 1.3760 | Generator Loss: 0.5944\n",
            "Epoch 80/100 | Discriminator Loss: 1.3546 | Generator Loss: 0.6053\n",
            "Epoch 81/100 | Discriminator Loss: 1.3113 | Generator Loss: 0.6227\n",
            "Epoch 82/100 | Discriminator Loss: 1.3196 | Generator Loss: 0.6213\n",
            "Epoch 83/100 | Discriminator Loss: 1.3331 | Generator Loss: 0.6361\n",
            "Epoch 84/100 | Discriminator Loss: 1.2887 | Generator Loss: 0.6539\n",
            "Epoch 85/100 | Discriminator Loss: 1.2938 | Generator Loss: 0.6580\n",
            "Epoch 86/100 | Discriminator Loss: 1.2322 | Generator Loss: 0.6716\n",
            "Epoch 87/100 | Discriminator Loss: 1.2679 | Generator Loss: 0.6855\n",
            "Epoch 88/100 | Discriminator Loss: 1.2306 | Generator Loss: 0.7036\n",
            "Epoch 89/100 | Discriminator Loss: 1.2134 | Generator Loss: 0.7072\n",
            "Epoch 90/100 | Discriminator Loss: 1.1730 | Generator Loss: 0.7417\n",
            "Epoch 91/100 | Discriminator Loss: 1.1735 | Generator Loss: 0.7482\n",
            "Epoch 92/100 | Discriminator Loss: 1.1938 | Generator Loss: 0.7568\n",
            "Epoch 93/100 | Discriminator Loss: 1.0998 | Generator Loss: 0.7824\n",
            "Epoch 94/100 | Discriminator Loss: 1.0811 | Generator Loss: 0.7819\n",
            "Epoch 95/100 | Discriminator Loss: 1.1536 | Generator Loss: 0.7913\n",
            "Epoch 96/100 | Discriminator Loss: 0.9414 | Generator Loss: 0.8325\n",
            "Epoch 97/100 | Discriminator Loss: 1.0508 | Generator Loss: 0.8701\n",
            "Epoch 98/100 | Discriminator Loss: 1.0782 | Generator Loss: 0.7851\n",
            "Epoch 99/100 | Discriminator Loss: 0.9633 | Generator Loss: 0.8395\n",
            "Epoch 100/100 | Discriminator Loss: 0.9206 | Generator Loss: 0.9187\n"
          ]
        },
        {
          "output_type": "display_data",
          "data": {
            "text/plain": [
              "<Figure size 640x480 with 1 Axes>"
            ],
            "image/png": "[encoded data removed]"
          },
          "metadata": {}
        }
      ]
    },
    {
      "cell_type": "code",
      "source": [],
      "metadata": {
        "id": "inMNdnYdokYh"
      },
      "execution_count": null,
      "outputs": []
    },
    {
      "cell_type": "code",
      "source": [],
      "metadata": {
        "id": "GqiOwafda6mX"
      },
      "execution_count": null,
      "outputs": []
    },
    {
      "cell_type": "code",
      "source": [],
      "metadata": {
        "id": "CZEzNqrErz2m"
      },
      "execution_count": null,
      "outputs": []
    },
    {
      "cell_type": "code",
      "source": [
        "\n",
        "\n",
        "\n"
      ],
      "metadata": {
        "id": "6kCDbeXFn4eb"
      },
      "execution_count": null,
      "outputs": []
    },
    {
      "cell_type": "code",
      "source": [],
      "metadata": {
        "id": "ZodgfJccn65C"
      },
      "execution_count": null,
      "outputs": []
    },
    {
      "cell_type": "code",
      "source": [],
      "metadata": {
        "id": "wOFLFKIdn9lg"
      },
      "execution_count": null,
      "outputs": []
    },
    {
      "cell_type": "code",
      "source": [
        "\n"
      ],
      "metadata": {
        "id": "M66YRWGCsmYt"
      },
      "execution_count": null,
      "outputs": []
    },
    {
      "cell_type": "code",
      "source": [
        "\n"
      ],
      "metadata": {
        "id": "Ql4GKHf1sosJ"
      },
      "execution_count": null,
      "outputs": []
    },
    {
      "cell_type": "code",
      "source": [],
      "metadata": {
        "id": "-DPqxyeLsunp"
      },
      "execution_count": null,
      "outputs": []
    },
    {
      "cell_type": "code",
      "source": [],
      "metadata": {
        "id": "cQLtB7P0tD9W"
      },
      "execution_count": null,
      "outputs": []
    },
    {
      "cell_type": "code",
      "source": [],
      "metadata": {
        "id": "4LAZrawws5ZA"
      },
      "execution_count": null,
      "outputs": []
    },
    {
      "source": [],
      "cell_type": "code",
      "metadata": {
        "id": "CN1JicuQEqQI"
      },
      "execution_count": null,
      "outputs": []
    },
    {
      "source": [],
      "cell_type": "code",
      "metadata": {
        "id": "HjxXvStiEuhp"
      },
      "execution_count": null,
      "outputs": []
    },
    {
      "source": [
        "import tensorflow as tf\n",
        "\n",
        "# ... (rest of your code)\n",
        "\n",
        "@tf.function\n",
        "def train_step(images, labels):\n",
        "    with tf.GradientTape() as tape:\n",
        "        # Get the discriminator's predictions\n",
        "        predictions = discriminator(images, training=True)\n",
        "\n",
        "        # Reshape predictions to match labels shape (32,)\n",
        "        predictions = tf.reshape(predictions, (tf.shape(labels)[0],))\n",
        "\n",
        "        loss = tf.keras.losses.binary_crossentropy(labels, predictions)\n",
        "    gradients = tape.gradient(loss, discriminator.trainable_variables)\n",
        "    discriminator.optimizer.apply_gradients(zip(gradients, discriminator.trainable_variables))\n",
        "    return loss\n",
        "\n",
        "# ... (rest of your code)"
      ],
      "cell_type": "code",
      "metadata": {
        "id": "MCJA3Z7kE2G9"
      },
      "execution_count": null,
      "outputs": []
    },
    {
      "cell_type": "code",
      "source": [],
      "metadata": {
        "id": "geFRJtyctOyi"
      },
      "execution_count": null,
      "outputs": []
    },
    {
      "cell_type": "code",
      "source": [],
      "metadata": {
        "id": "azMTHRUoFgum"
      },
      "execution_count": null,
      "outputs": []
    },
    {
      "cell_type": "code",
      "source": [
        "\n",
        "\n"
      ],
      "metadata": {
        "id": "ltWoi5rpxBy7"
      },
      "execution_count": null,
      "outputs": []
    },
    {
      "source": [
        "\n"
      ],
      "cell_type": "code",
      "metadata": {
        "id": "aT6g49HAlTHM"
      },
      "execution_count": null,
      "outputs": []
    },
    {
      "source": [],
      "cell_type": "code",
      "metadata": {
        "id": "s5FxDF76lZz4"
      },
      "execution_count": null,
      "outputs": []
    },
    {
      "source": [],
      "cell_type": "code",
      "metadata": {
        "id": "LbCUrZS_lmFW"
      },
      "execution_count": null,
      "outputs": []
    },
    {
      "cell_type": "code",
      "source": [],
      "metadata": {
        "id": "VFWcoS62lLOU"
      },
      "execution_count": null,
      "outputs": []
    },
    {
      "source": [],
      "cell_type": "code",
      "metadata": {
        "id": "rMNoh9h4l2hC"
      },
      "execution_count": null,
      "outputs": []
    },
    {
      "cell_type": "code",
      "source": [
        "\n"
      ],
      "metadata": {
        "id": "GyEGJgmtl3Sh"
      },
      "execution_count": null,
      "outputs": []
    },
    {
      "cell_type": "code",
      "source": [
        "\n"
      ],
      "metadata": {
        "id": "Kd8sy5vAmTXJ"
      },
      "execution_count": null,
      "outputs": []
    },
    {
      "source": [],
      "cell_type": "code",
      "metadata": {
        "id": "VCLr5ndJCSyc"
      },
      "execution_count": null,
      "outputs": []
    },
    {
      "source": [
        "def create_sequences(data, seq_length=30):\n",
        "    sequences = []\n",
        "    for i in range(len(data) - seq_length + 1):\n",
        "        sequences.append(data[i:i + seq_length])\n",
        "    return np.array(sequences)\n",
        "\n",
        "# Assuming time_series_scaled is your preprocessed data\n",
        "sequences = create_sequences(time_series_scaled, seq_length=seq_length)  # seq_length should be defined as well"
      ],
      "cell_type": "code",
      "metadata": {
        "id": "CSyb6Q0ICVEW"
      },
      "execution_count": null,
      "outputs": []
    },
    {
      "source": [],
      "cell_type": "code",
      "metadata": {
        "id": "un3oFIJ0CW_h"
      },
      "execution_count": null,
      "outputs": []
    },
    {
      "source": [],
      "cell_type": "code",
      "metadata": {
        "id": "1dUDyuzkCg0l"
      },
      "execution_count": null,
      "outputs": []
    },
    {
      "source": [],
      "cell_type": "code",
      "metadata": {
        "id": "QLpIF78KCneX"
      },
      "execution_count": null,
      "outputs": []
    },
    {
      "source": [],
      "cell_type": "code",
      "metadata": {
        "id": "ComwGqiKCqrW"
      },
      "execution_count": null,
      "outputs": []
    },
    {
      "cell_type": "code",
      "source": [],
      "metadata": {
        "id": "ThGPIf8nB8Xi"
      },
      "execution_count": null,
      "outputs": []
    },
    {
      "cell_type": "code",
      "source": [
        "for epoch in range(epochs):\n",
        "    total_disc_loss = 0\n",
        "    total_gen_loss = 0\n",
        "\n",
        "    # Ensure at least one batch\n",
        "    num_batches = max(1, len(sequences) // batch_size)\n",
        "\n",
        "    for _ in range(num_batches):\n",
        "        # Sample real sequences\n",
        "        idx = np.random.randint(0, sequences.shape[0], min(batch_size, len(sequences)))\n",
        "        real_sequences = sequences[idx]\n",
        "\n",
        "        # Generate synthetic sequences\n",
        "        noise = tf.random.normal(shape=(len(real_sequences), seq_length, 1))  # Match real_sequences batch size\n",
        "        synthetic_sequences = generator(noise)\n",
        "\n",
        "        # Train Discriminator\n",
        "        with tf.GradientTape() as disc_tape:\n",
        "            real_preds = discriminator(real_sequences)\n",
        "            fake_preds = discriminator(synthetic_sequences)\n",
        "\n",
        "            disc_loss_real = bce_loss(tf.ones_like(real_preds), real_preds)\n",
        "            disc_loss_fake = bce_loss(tf.zeros_like(fake_preds), fake_preds)\n",
        "            disc_loss = disc_loss_real + disc_loss_fake\n",
        "\n",
        "        disc_grads = disc_tape.gradient(disc_loss, discriminator.trainable_variables)\n",
        "        discriminator_optimizer.apply_gradients(zip(disc_grads, discriminator.trainable_variables))\n",
        "\n",
        "        # Train Generator\n",
        "        with tf.GradientTape() as gen_tape:\n",
        "            synthetic_sequences = generator(noise)\n",
        "            fake_preds = discriminator(synthetic_sequences)\n",
        "            gen_loss = bce_loss(tf.ones_like(fake_preds), fake_preds)\n",
        "\n",
        "        gen_grads = gen_tape.gradient(gen_loss, generator.trainable_variables)\n",
        "        generator_optimizer.apply_gradients(zip(gen_grads, generator.trainable_variables))\n",
        "\n",
        "        # Accumulate losses\n",
        "        total_disc_loss += disc_loss.numpy()\n",
        "        total_gen_loss += gen_loss.numpy()\n",
        "\n",
        "    # Calculate average losses\n",
        "    avg_disc_loss = total_disc_loss / num_batches\n",
        "    avg_gen_loss = total_gen_loss / num_batches\n",
        "\n",
        "    # Print losses\n",
        "    print(f\"Epoch {epoch + 1}/{epochs} | Discriminator Loss: {avg_disc_loss:.4f} | Generator Loss: {avg_gen_loss:.4f}\")\n"
      ],
      "metadata": {
        "id": "eemuyywsFksn"
      },
      "execution_count": null,
      "outputs": []
    },
    {
      "cell_type": "code",
      "source": [
        "num_batches = max(1, len(sequences) // batch_size)\n"
      ],
      "metadata": {
        "id": "oXVGLWJBPEDc"
      },
      "execution_count": null,
      "outputs": []
    },
    {
      "cell_type": "code",
      "source": [
        "idx = np.random.randint(0, sequences.shape[0], min(batch_size, len(sequences)))\n"
      ],
      "metadata": {
        "id": "_S_O2Wj0PUCh"
      },
      "execution_count": null,
      "outputs": []
    },
    {
      "cell_type": "code",
      "source": [
        "noise = tf.random.normal(shape=(len(real_sequences), seq_length, 1))\n"
      ],
      "metadata": {
        "id": "_u-sxVUAPWuX"
      },
      "execution_count": null,
      "outputs": []
    },
    {
      "cell_type": "code",
      "source": [
        "real_labels = tf.ones((batch_size, 1)) * 0.9\n"
      ],
      "metadata": {
        "id": "DIDScK0UPZT4"
      },
      "execution_count": null,
      "outputs": []
    },
    {
      "cell_type": "code",
      "source": [
        "discriminator_optimizer = tf.keras.optimizers.Adam(0.0005)\n"
      ],
      "metadata": {
        "id": "USVJGUslPwYa"
      },
      "execution_count": null,
      "outputs": []
    },
    {
      "cell_type": "code",
      "source": [
        "noise = tf.random.normal(shape=(1, seq_length, 1))\n",
        "generated_sequence = generator(noise).numpy()\n",
        "plt.plot(scaler.inverse_transform(generated_sequence[0]))\n",
        "plt.title(\"Generated Sequence\")\n",
        "plt.show()\n"
      ],
      "metadata": {
        "id": "4cHwB8jFPzqp"
      },
      "execution_count": null,
      "outputs": []
    },
    {
      "cell_type": "code",
      "source": [
        "layers.Dropout(0.2),\n"
      ],
      "metadata": {
        "id": "RtuFnlBZP2E3"
      },
      "execution_count": null,
      "outputs": []
    },
    {
      "cell_type": "code",
      "source": [
        "\n"
      ],
      "metadata": {
        "id": "l6_rmL6uP5yh"
      },
      "execution_count": null,
      "outputs": []
    }
  ]
}